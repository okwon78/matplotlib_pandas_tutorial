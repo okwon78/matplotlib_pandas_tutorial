{
 "cells": [
  {
   "cell_type": "code",
   "execution_count": 3,
   "metadata": {},
   "outputs": [
    {
     "name": "stderr",
     "output_type": "stream",
     "text": [
      "/Users/amore/anaconda3/lib/python3.6/site-packages/tensorflow/python/client/session.py:1662: UserWarning: An interactive session is already active. This can cause out-of-memory errors in some cases. You must explicitly call `InteractiveSession.close()` to release resources held by the other session(s).\n",
      "  warnings.warn('An interactive session is already active. This can '\n"
     ]
    }
   ],
   "source": [
    "import tensorflow as tf\n",
    "import numpy as np\n",
    "sess = tf.InteractiveSession()"
   ]
  },
  {
   "cell_type": "code",
   "execution_count": 5,
   "metadata": {},
   "outputs": [
    {
     "name": "stdout",
     "output_type": "stream",
     "text": [
      "t:\n",
      " [[[[ 0  1]\n",
      "   [ 2  3]]\n",
      "\n",
      "  [[ 4  5]\n",
      "   [ 6  7]]]\n",
      "\n",
      "\n",
      " [[[ 8  9]\n",
      "   [10 11]]\n",
      "\n",
      "  [[12 13]\n",
      "   [14 15]]]]\n",
      "sum0:\n",
      " [[[ 8 10]\n",
      "  [12 14]]\n",
      "\n",
      " [[16 18]\n",
      "  [20 22]]]\n",
      "sum1:\n",
      " [[[ 4  6]\n",
      "  [ 8 10]]\n",
      "\n",
      " [[20 22]\n",
      "  [24 26]]]\n",
      "sum2:\n",
      " [[[ 2  4]\n",
      "  [10 12]]\n",
      "\n",
      " [[18 20]\n",
      "  [26 28]]]\n",
      "sum3:\n",
      " [[[ 1  5]\n",
      "  [ 9 13]]\n",
      "\n",
      " [[17 21]\n",
      "  [25 29]]]\n"
     ]
    }
   ],
   "source": [
    "seq = np.arange(0, 16)\n",
    "\n",
    "t = tf.constant(seq)\n",
    "t = tf.reshape(tensor=t, shape=(2, 2, 2, 2))\n",
    "print('t:\\n', t.eval())\n",
    "sum0 = tf.reduce_sum(t, axis=0)\n",
    "sum1 = tf.reduce_sum(t, axis=1)\n",
    "sum2 = tf.reduce_sum(t, axis=2)\n",
    "sum3 = tf.reduce_sum(t, axis=3)\n",
    "\n",
    "print('sum0:\\n', sum0.eval())\n",
    "print('sum1:\\n', sum1.eval())\n",
    "print('sum2:\\n', sum2.eval())\n",
    "print('sum3:\\n', sum3.eval())\n"
   ]
  },
  {
   "cell_type": "code",
   "execution_count": null,
   "metadata": {},
   "outputs": [],
   "source": []
  },
  {
   "cell_type": "code",
   "execution_count": null,
   "metadata": {},
   "outputs": [],
   "source": []
  }
 ],
 "metadata": {
  "kernelspec": {
   "display_name": "Python 3",
   "language": "python",
   "name": "python3"
  },
  "language_info": {
   "codemirror_mode": {
    "name": "ipython",
    "version": 3
   },
   "file_extension": ".py",
   "mimetype": "text/x-python",
   "name": "python",
   "nbconvert_exporter": "python",
   "pygments_lexer": "ipython3",
   "version": "3.6.6"
  }
 },
 "nbformat": 4,
 "nbformat_minor": 2
}
