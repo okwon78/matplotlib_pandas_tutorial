{
 "cells": [
  {
   "cell_type": "markdown",
   "metadata": {},
   "source": [
    "# Tensorflow Models"
   ]
  },
  {
   "cell_type": "markdown",
   "metadata": {},
   "source": [
    "## mnist"
   ]
  },
  {
   "cell_type": "code",
   "execution_count": null,
   "metadata": {},
   "outputs": [],
   "source": [
    "import time\n",
    "import tensorflow as tf\n",
    "from tensorflow.examples.tutorials.mnist import input_data\n",
    "\n",
    "learning_rate = 0.01\n",
    "batch_size = 32\n",
    "n_epochs = 30\n",
    "\n",
    "mnist = input_data.read_data_sets('data/mnist', one_hot=True)\n",
    "X_batch, Y_batch = mnist.train.next_batch(batch_size)\n",
    "\n",
    "print('learning_rate ', learning_rate)\n",
    "print('batch_size ', batch_size)\n",
    "print('n_epochs ', n_epochs)\n",
    "print('X_batch', X_batch.shape, X_batch.dtype)\n",
    "print('Y_batch', Y_batch.shape, X_batch.dtype)\n",
    "\n",
    "image_size = X_batch.shape[1]\n",
    "n_classes = Y_batch.shape[1]\n",
    "\n",
    "X = tf.placeholder(dtype=tf.float32, shape=[batch_size, image_size], name='input')\n",
    "Y = tf.placeholder(dtype=tf.int32, shape=[batch_size, n_classes], name='label')\n",
    "\n",
    "n_hiden_layer = 10\n",
    "\n",
    "w = tf.get_variable(name='weights', dtype=tf.float32, shape=[image_size, n_hiden_layer], initializer=tf.truncated_normal_initializer())\n",
    "b = tf.get_variable(name='bias', dtype=tf.float32, shape=[1, n_hiden_layer], initializer=tf.truncated_normal_initializer())\n",
    "\n",
    "logits = tf.matmul(X, w) + b\n",
    "print('logits ',logits.shape)\n",
    "\n",
    "# train\n",
    "entropy = tf.nn.softmax_cross_entropy_with_logits(logits=logits, labels=Y, name='loss')\n",
    "print('entropy ', entropy.shape)\n",
    "\n",
    "loss = tf.reduce_mean(entropy)\n",
    "print('loss ', loss.shape)\n",
    "\n",
    "optimizer = tf.train.AdamOptimizer(learning_rate).minimize(loss)\n",
    "\n",
    "# test\n",
    "preds = tf.nn.softmax(logits)\n",
    "correct_preds = tf.equal(tf.argmax(preds, 1), tf.argmax(Y, 1))\n",
    "accuracy = tf.reduce_sum(tf.cast(correct_preds, tf.float32))\n",
    "\n",
    "writer = tf.summary.FileWriter('./graphs/logreg_placeholder', tf.get_default_graph())\n",
    "\n",
    "with tf.Session() as sess:\n",
    "    start_time = time.time()\n",
    "    sess.run(tf.global_variables_initializer())\n",
    "    n_train_batches = int(mnist.train.num_examples / batch_size)\n",
    "    n_test_batches = int(mnist.test.num_examples / batch_size)\n",
    "\n",
    "    for i in range(n_epochs):\n",
    "        total_loss = 0\n",
    "\n",
    "        # train\n",
    "        for j in range(n_train_batches):\n",
    "            X_batch, Y_batch = mnist.train.next_batch(batch_size)\n",
    "            _, loss_batch, accuracy_batch = sess.run([optimizer, loss, accuracy], {X: X_batch, Y: Y_batch})\n",
    "            total_loss += loss_batch\n",
    "        print('Average loss epoch {0}: {1}: {2}'.format(i, total_loss / n_train_batches, accuracy_batch / batch_size))\n",
    "\n",
    "        # validation\n",
    "        total_correct_preds = 0\n",
    "        for j in range(n_test_batches):\n",
    "            X_batch, Y_batch = mnist.test.next_batch(batch_size)\n",
    "            accuracy_batch = sess.run(accuracy, {X: X_batch, Y: Y_batch})\n",
    "            total_correct_preds += accuracy_batch\n",
    "        print('Epoch {0} Accuracy {1}'.format(i, total_correct_preds / mnist.test.num_examples))\n",
    "\n",
    "    print('Total time: {0} seconds'.format(time.time() - start_time))\n",
    "\n",
    "    # test\n",
    "    total_correct_preds = 0\n",
    "\n",
    "    for i in range(n_test_batches):\n",
    "        X_batch, Y_batch = mnist.test.next_batch(batch_size)\n",
    "        accuracy_batch = sess.run(accuracy, {X: X_batch, Y: Y_batch})\n",
    "        total_correct_preds += accuracy_batch\n",
    "\n",
    "    print('Total: Accuracy {0}'.format(total_correct_preds / mnist.test.num_examples))\n",
    "\n"
   ]
  },
  {
   "cell_type": "markdown",
   "metadata": {},
   "source": [
    "## word2vec"
   ]
  },
  {
   "cell_type": "code",
   "execution_count": null,
   "metadata": {},
   "outputs": [],
   "source": []
  }
 ],
 "metadata": {
  "kernelspec": {
   "display_name": "Python 3",
   "language": "python",
   "name": "python3"
  },
  "language_info": {
   "codemirror_mode": {
    "name": "ipython",
    "version": 3
   },
   "file_extension": ".py",
   "mimetype": "text/x-python",
   "name": "python",
   "nbconvert_exporter": "python",
   "pygments_lexer": "ipython3",
   "version": "3.6.5"
  }
 },
 "nbformat": 4,
 "nbformat_minor": 2
}
