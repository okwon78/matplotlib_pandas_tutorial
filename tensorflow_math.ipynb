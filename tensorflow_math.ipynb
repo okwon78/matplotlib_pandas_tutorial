{
 "cells": [
  {
   "cell_type": "markdown",
   "metadata": {},
   "source": [
    "# Tensorflow Math Modules"
   ]
  },
  {
   "cell_type": "code",
   "execution_count": 2,
   "metadata": {},
   "outputs": [
    {
     "data": {
      "text/plain": [
       "<tensorflow.python.client.session.InteractiveSession at 0x103c90cf8>"
      ]
     },
     "execution_count": 2,
     "metadata": {},
     "output_type": "execute_result"
    }
   ],
   "source": [
    "import tensorflow as tf\n",
    "tf.InteractiveSession()"
   ]
  },
  {
   "cell_type": "markdown",
   "metadata": {},
   "source": [
    "### Reduction\n",
    "\n",
    "리스트를 받아서 axis를 기준으로 평균을 반환\n",
    "\n",
    "```\n",
    "tf.reduce_mean(\n",
    "    input_tensor,\n",
    "    axis=None,\n",
    "    keepdims=None,\n",
    "    name=None,\n",
    "    reduction_indices=None,\n",
    "    keep_dims=None\n",
    ")\n",
    "```"
   ]
  },
  {
   "cell_type": "code",
   "execution_count": 6,
   "metadata": {},
   "outputs": [
    {
     "name": "stdout",
     "output_type": "stream",
     "text": [
      "1.5\n",
      "[1.5 1.5]\n",
      "[1. 2.]\n"
     ]
    }
   ],
   "source": [
    "x = tf.constant([[1., 1.], [2., 2.]])\n",
    "\n",
    "a = tf.reduce_mean(x)\n",
    "print(a.eval())\n",
    "\n",
    "b = tf.reduce_mean(x, axis=0)\n",
    "print(b.eval())\n",
    "\n",
    "c = tf.reduce_mean(x, axis=1)\n",
    "print(c.eval())"
   ]
  },
  {
   "cell_type": "markdown",
   "metadata": {},
   "source": [
    "###  Sequence Comparison and Indexing\n",
    "해당 range에서 가장 큰 index를 반환 한다.\n",
    "\n",
    "```\n",
    "tf.argmax(\n",
    "    input,\n",
    "    axis=None,\n",
    "    name=None,\n",
    "    dimension=None,\n",
    "    output_type=tf.int64\n",
    ")\n",
    "```"
   ]
  },
  {
   "cell_type": "code",
   "execution_count": 15,
   "metadata": {},
   "outputs": [
    {
     "name": "stdout",
     "output_type": "stream",
     "text": [
      "y:  [2 3 3]\n",
      "yhat:  [2 3 3]\n",
      "correct_preds:  [ True  True  True]\n",
      "accuracy:  3.0\n"
     ]
    }
   ],
   "source": [
    "y = tf.constant([[0,0,1,0], [0,0,0,1], [0,0,0,1]])\n",
    "yhat = tf.constant([[0.0,0.1,0.8,0], [0.4,0.2,0.1,0.6], [0.0,0.2,0.1,0.4]])\n",
    "\n",
    "y_index = tf.argmax(y, 1)\n",
    "yhat_index = tf.argmax(yhat, 1)\n",
    "\n",
    "print('y: ', y_index.eval())\n",
    "print('yhat: ', yhat_index.eval())\n",
    "\n",
    "correct_preds = tf.equal(y_index, yhat_index)\n",
    "\n",
    "print('correct_preds: ', correct_preds.eval())\n",
    "\n",
    "accuracy = tf.reduce_sum(tf.cast(correct_preds, tf.float32))\n",
    "\n",
    "print('accuracy: ', accuracy.eval())\n",
    "\n"
   ]
  },
  {
   "cell_type": "code",
   "execution_count": null,
   "metadata": {},
   "outputs": [],
   "source": []
  }
 ],
 "metadata": {
  "kernelspec": {
   "display_name": "Python 3",
   "language": "python",
   "name": "python3"
  },
  "language_info": {
   "codemirror_mode": {
    "name": "ipython",
    "version": 3
   },
   "file_extension": ".py",
   "mimetype": "text/x-python",
   "name": "python",
   "nbconvert_exporter": "python",
   "pygments_lexer": "ipython3",
   "version": "3.6.5"
  }
 },
 "nbformat": 4,
 "nbformat_minor": 2
}
