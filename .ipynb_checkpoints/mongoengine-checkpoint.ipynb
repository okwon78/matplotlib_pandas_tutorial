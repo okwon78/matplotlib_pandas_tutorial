{
 "cells": [
  {
   "cell_type": "code",
   "execution_count": 4,
   "metadata": {},
   "outputs": [],
   "source": [
    "from mongoengine import *\n",
    "\n",
    "mongoengine.register_connection(alias='localhost', name='kwon')"
   ]
  },
  {
   "cell_type": "code",
   "execution_count": 5,
   "metadata": {},
   "outputs": [],
   "source": [
    "class User(Document):\n",
    "    email = StringField(required=True)\n",
    "    first_name = StringField(max_length=50)\n",
    "    last_name = StringField(max_length=50)\n",
    "    \n",
    "    meta = {\n",
    "        'db_alias' : 'core',\n",
    "        'collection' : 'users'\n",
    "    }"
   ]
  },
  {
   "cell_type": "code",
   "execution_count": null,
   "metadata": {},
   "outputs": [],
   "source": []
  },
  {
   "cell_type": "code",
   "execution_count": null,
   "metadata": {},
   "outputs": [],
   "source": [
    "ross = User(email='ross@example.com')\n",
    "ross.first_name = 'Ross'\n",
    "ross.last_name = 'Lawley'\n",
    "ross.save()"
   ]
  }
 ],
 "metadata": {
  "kernelspec": {
   "display_name": "Python 3",
   "language": "python",
   "name": "python3"
  },
  "language_info": {
   "codemirror_mode": {
    "name": "ipython",
    "version": 3
   },
   "file_extension": ".py",
   "mimetype": "text/x-python",
   "name": "python",
   "nbconvert_exporter": "python",
   "pygments_lexer": "ipython3",
   "version": "3.6.5"
  }
 },
 "nbformat": 4,
 "nbformat_minor": 2
}
