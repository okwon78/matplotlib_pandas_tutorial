{
 "cells": [
  {
   "cell_type": "markdown",
   "metadata": {},
   "source": [
    "# Numpy Quick Review"
   ]
  },
  {
   "cell_type": "markdown",
   "metadata": {},
   "source": [
    "## Basic Operation\n",
    "파이썬 리스트와 numpy 배열과의 차이를 알아 보고 numpy가 제공하는 기본적인 수학 연산을 살펴보자."
   ]
  },
  {
   "cell_type": "code",
   "execution_count": 55,
   "metadata": {},
   "outputs": [],
   "source": [
    "import numpy as np"
   ]
  },
  {
   "cell_type": "code",
   "execution_count": 1,
   "metadata": {},
   "outputs": [
    {
     "name": "stdout",
     "output_type": "stream",
     "text": [
      "1\n",
      "2\n",
      "3\n"
     ]
    }
   ],
   "source": [
    "x = [1, 2, 3]\n",
    "\n",
    "for i in x:\n",
    "    print(i)"
   ]
  },
  {
   "cell_type": "code",
   "execution_count": 2,
   "metadata": {},
   "outputs": [
    {
     "name": "stdout",
     "output_type": "stream",
     "text": [
      "1\n",
      "2\n",
      "3\n"
     ]
    }
   ],
   "source": [
    "x = np.array([1, 2, 3])\n",
    "\n",
    "for i in x:\n",
    "    print(i)"
   ]
  },
  {
   "cell_type": "code",
   "execution_count": 3,
   "metadata": {},
   "outputs": [
    {
     "name": "stdout",
     "output_type": "stream",
     "text": [
      "[1, 2, 3, 4, 5]\n"
     ]
    }
   ],
   "source": [
    "x = [1, 2, 3]\n",
    "x.append(4)\n",
    "\n",
    "# sum is equal to append method of list\n",
    "x = x + [5]\n",
    "\n",
    "print(x)"
   ]
  },
  {
   "cell_type": "markdown",
   "metadata": {},
   "source": [
    "numpy는 list와는 다르게 '+'는 append 기능을 하지 않는다."
   ]
  },
  {
   "cell_type": "code",
   "execution_count": 16,
   "metadata": {},
   "outputs": [
    {
     "name": "stdout",
     "output_type": "stream",
     "text": [
      "[6 7 8]\n"
     ]
    }
   ],
   "source": [
    "x = np.array([1, 2, 3])\n",
    "# append and __sum__ operator do not exit on numpy array\n",
    "\n",
    "# x.append(4)\n",
    "x = x + [5]\n",
    "print(x)"
   ]
  },
  {
   "cell_type": "code",
   "execution_count": 5,
   "metadata": {},
   "outputs": [
    {
     "name": "stdout",
     "output_type": "stream",
     "text": [
      "[3 5 7]\n"
     ]
    }
   ],
   "source": [
    "a = np.array([1, 2, 3])\n",
    "b = np.array([2, 3, 4])\n",
    "\n",
    "# sum is equal to a component wise summation\n",
    "d = a + b\n",
    "\n",
    "print(d)"
   ]
  },
  {
   "cell_type": "code",
   "execution_count": 6,
   "metadata": {},
   "outputs": [
    {
     "name": "stdout",
     "output_type": "stream",
     "text": [
      "[1, 2, 3, 1, 2, 3]\n"
     ]
    }
   ],
   "source": [
    "x = [1, 2, 3]\n",
    "# list는 다음과 같은 동작은 정의되어 있지 않다.\n",
    "# print(x**2)\n",
    "\n",
    "# 곱하기 동작은 다음과 같이 정의되어 있다.\n",
    "print(x*2)"
   ]
  },
  {
   "cell_type": "code",
   "execution_count": 7,
   "metadata": {},
   "outputs": [
    {
     "name": "stdout",
     "output_type": "stream",
     "text": [
      "[ 1.  2.  3.]\n"
     ]
    }
   ],
   "source": [
    "x = np.array([1, 2, 3])\n",
    "\n",
    "x = x**2\n",
    "x = np.sqrt(x)\n",
    "# x = np.log(x)\n",
    "# x = np.exp(x)\n",
    "\n",
    "print(x)\n"
   ]
  },
  {
   "cell_type": "markdown",
   "metadata": {},
   "source": [
    "## Dot product\n",
    "내적은 딥러닝을 포함해서 다양한 머신러닝 알고리즘에서 다양하게 사용된다."
   ]
  },
  {
   "cell_type": "code",
   "execution_count": 8,
   "metadata": {},
   "outputs": [
    {
     "name": "stdout",
     "output_type": "stream",
     "text": [
      "[4 4]\n",
      "[4 2]\n",
      "6\n",
      "6\n",
      "6\n"
     ]
    }
   ],
   "source": [
    "a = np.array([2, 2])\n",
    "b = np.array([2, 1])\n",
    "\n",
    "# scalar값을 곱할 때는 각 element에 곱이 수행된다.\n",
    "print(a*2)\n",
    "# vector간의 곱은 내적으로 수행된다.\n",
    "print(a*b)\n",
    "\n",
    "# 내적은 다음과 같이 수행된다.\n",
    "print(np.sum(a*b))\n",
    "\n",
    "# 제공되는 dot product는 다음과 같다.\n",
    "print(np.dot(a, b))\n",
    "print(a.dot(b))"
   ]
  },
  {
   "cell_type": "markdown",
   "metadata": {},
   "source": [
    "List를 이용한 dot product와 numpy를 이용한 dot product의 성능 비교를 살펴보자."
   ]
  },
  {
   "cell_type": "code",
   "execution_count": 51,
   "metadata": {},
   "outputs": [
    {
     "name": "stdout",
     "output_type": "stream",
     "text": [
      "List:  0.000129\n",
      "Numpy:  5.9e-05\n",
      "Numpy is faster than list 2.1864406779661016 times\n"
     ]
    }
   ],
   "source": [
    "from datetime import datetime\n",
    "\n",
    "a = range(100)\n",
    "b = range(100)\n",
    "\n",
    "t0 = datetime.now()\n",
    "\n",
    "scalar = 0\n",
    "for i in range(len(a)):\n",
    "    scalar += (a[i] * b[i])\n",
    "    \n",
    "list_duration = (datetime.now() - t0)\n",
    "\n",
    "print(\"List: \",list_duration.total_seconds())\n",
    "\n",
    "# 정규 분포로 부터 랜덤값을 반환한다. 파라미터는 shape을 나타낸다.\n",
    "# print(np.random.randn(2, 3))\n",
    "\n",
    "a = np.array(range(100))\n",
    "b = np.array(range(100))\n",
    "\n",
    "t0 = datetime.now()\n",
    "\n",
    "a.dot(b)\n",
    "\n",
    "np_duration = (datetime.now() - t0)\n",
    "\n",
    "print(\"Numpy: \", np_duration.total_seconds())\n",
    "\n",
    "print(\"Numpy is faster than list {} times\".format(list_duration.total_seconds() / np_duration.total_seconds()))"
   ]
  },
  {
   "cell_type": "markdown",
   "metadata": {},
   "source": [
    "## Vectors and Matrices"
   ]
  },
  {
   "cell_type": "code",
   "execution_count": 59,
   "metadata": {},
   "outputs": [
    {
     "name": "stdout",
     "output_type": "stream",
     "text": [
      "[[1 2]\n",
      " [3 4]]\n",
      "[1 2]\n",
      "1\n"
     ]
    }
   ],
   "source": [
    "x = np.array([[1, 2], [3, 4]]) \n",
    "print(x)\n",
    "print(x[0])\n",
    "print(x[0][0])"
   ]
  },
  {
   "cell_type": "code",
   "execution_count": 61,
   "metadata": {},
   "outputs": [
    {
     "name": "stdout",
     "output_type": "stream",
     "text": [
      "[[1 2]\n",
      " [3 4]]\n",
      "[[1 2]]\n",
      "[[1 2]]\n",
      "[[1 3]\n",
      " [2 4]]\n"
     ]
    }
   ],
   "source": [
    "x = np.matrix([[1, 2], [3, 4]])\n",
    "print(x)\n",
    "print(x[0])\n",
    "print(x[0][0])\n",
    "print(x.T)"
   ]
  },
  {
   "cell_type": "code",
   "execution_count": 72,
   "metadata": {},
   "outputs": [
    {
     "name": "stdout",
     "output_type": "stream",
     "text": [
      "[ 0.  0.  0.  0.  0.]\n",
      "[[ 0.  0.  0.]\n",
      " [ 0.  0.  0.]\n",
      " [ 0.  0.  0.]]\n",
      "[[ 1.  1.  1.]\n",
      " [ 1.  1.  1.]\n",
      " [ 1.  1.  1.]]\n",
      "[[ 0.88408179  0.33358454  0.33435622]\n",
      " [ 0.09760618  0.68751175  0.4050309 ]\n",
      " [ 0.74345117  0.52028449  0.95882976]]\n",
      "[[ 0.51470789 -2.72923508  1.26453887]\n",
      " [ 0.70464716  0.36898221  0.62927103]\n",
      " [-2.09860184  0.42493288  1.19864382]]\n"
     ]
    }
   ],
   "source": [
    "print(np.zeros(5))\n",
    "# 파라미터가 2개 들어가는 것이 아니라 tuple에 첫 번째 파라미터로 들어간다.\n",
    "print(np.zeros((3,3)))\n",
    "# 모든 값이 1로된 array를 반환한다.\n",
    "print(np.ones((3,3)))\n",
    "# 0부터 1사이의 값을 반환한다.\n",
    "print(np.random.random((3,3)))\n",
    "# 3x3 배열 정규 분포 반환. 입력이 2개 들어간다. \n",
    "print(np.random.randn(3,3))"
   ]
  },
  {
   "cell_type": "code",
   "execution_count": 81,
   "metadata": {},
   "outputs": [
    {
     "name": "stdout",
     "output_type": "stream",
     "text": [
      "-0.00547313148986\n",
      "1.02271141333\n"
     ]
    }
   ],
   "source": [
    "x = np.random.randn(100,100)\n",
    "print(x.mean())\n",
    "print(x.var())"
   ]
  },
  {
   "cell_type": "code",
   "execution_count": 87,
   "metadata": {},
   "outputs": [
    {
     "name": "stdout",
     "output_type": "stream",
     "text": [
      "[[-2.   1. ]\n",
      " [ 1.5 -0.5]]\n",
      "[[  1.00000000e+00   1.11022302e-16]\n",
      " [  0.00000000e+00   1.00000000e+00]]\n"
     ]
    },
    {
     "data": {
      "text/plain": [
       "-2.0000000000000004"
      ]
     },
     "execution_count": 87,
     "metadata": {},
     "output_type": "execute_result"
    }
   ],
   "source": [
    "x = np.array([[1,2],[3,4]])\n",
    "# 역행렬 inverse matrix\n",
    "i = np.linalg.inv(x)\n",
    "print(i)\n",
    "print(x.dot(i))\n",
    "# determiant\n",
    "np.linalg.det(x)\n"
   ]
  },
  {
   "cell_type": "code",
   "execution_count": 88,
   "metadata": {},
   "outputs": [
    {
     "name": "stdout",
     "output_type": "stream",
     "text": [
      "[[3 4]\n",
      " [6 8]]\n"
     ]
    }
   ],
   "source": [
    "x = np.array([1, 2])\n",
    "y = np.array([3, 4])\n",
    "\n",
    "# 외적 outer product\n",
    "print(np.outer(x, y))"
   ]
  },
  {
   "cell_type": "code",
   "execution_count": 91,
   "metadata": {},
   "outputs": [
    {
     "name": "stdout",
     "output_type": "stream",
     "text": [
      "5\n",
      "5\n"
     ]
    }
   ],
   "source": [
    "# trace : sum of diagnal values\n",
    "x = np.array([[1,2],[3,4]])\n",
    "print(np.diag(x).sum())\n",
    "print(np.trace(x))"
   ]
  },
  {
   "cell_type": "markdown",
   "metadata": {},
   "source": [
    "## Save and Load"
   ]
  },
  {
   "cell_type": "code",
   "execution_count": 98,
   "metadata": {},
   "outputs": [
    {
     "name": "stdout",
     "output_type": "stream",
     "text": [
      "x:  [[1 2 3]\n",
      " [4 5 6]]\n",
      "x(mmap_mode) :  [4 5 6]\n",
      "a:  [[1 2 3]\n",
      " [4 5 6]]\n",
      "b:  [1 2 3]\n"
     ]
    }
   ],
   "source": [
    "# 파일 확장자가 .npy일 경우, array를 반환한다.\n",
    "x = np.array([[1, 2, 3], [4, 5, 6]])\n",
    "y = np.array([1, 2, 3])\n",
    "\n",
    "np.save('./array', x)\n",
    "data = np.load('./array.npy')\n",
    "print('x: ', data)\n",
    "\n",
    "data = np.load('./array.npy', mmap_mode='r')\n",
    "print('x(mmap_mode) : ', data[1, :])\n",
    "\n",
    "# 파일 확장자가 .npz일 경우 dictionary 형태의 key-value 형태로 반환된다.\n",
    "# {filename: array}\n",
    "np.savez('dict.npz', a=x, b=y)\n",
    "data = np.load('./dict.npz')\n",
    "print('a: ', data['a'])\n",
    "print('b: ', data['b'])\n"
   ]
  },
  {
   "cell_type": "code",
   "execution_count": null,
   "metadata": {},
   "outputs": [],
   "source": []
  }
 ],
 "metadata": {
  "kernelspec": {
   "display_name": "Python 3",
   "language": "python",
   "name": "python3"
  },
  "language_info": {
   "codemirror_mode": {
    "name": "ipython",
    "version": 3
   },
   "file_extension": ".py",
   "mimetype": "text/x-python",
   "name": "python",
   "nbconvert_exporter": "python",
   "pygments_lexer": "ipython3",
   "version": "3.6.5"
  }
 },
 "nbformat": 4,
 "nbformat_minor": 2
}
