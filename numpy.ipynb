{
 "cells": [
  {
   "cell_type": "markdown",
   "metadata": {},
   "source": [
    "# Numpy Quick Review"
   ]
  },
  {
   "cell_type": "markdown",
   "metadata": {},
   "source": [
    "## Basic Operation\n",
    "파이썬 리스트와 numpy 배열과의 차이를 알아 보고 numpy가 제공하는 기본적인 수학 연산을 살펴보자."
   ]
  },
  {
   "cell_type": "code",
   "execution_count": 1,
   "metadata": {},
   "outputs": [],
   "source": [
    "import numpy as np"
   ]
  },
  {
   "cell_type": "code",
   "execution_count": 2,
   "metadata": {},
   "outputs": [
    {
     "name": "stdout",
     "output_type": "stream",
     "text": [
      "[0 1 2 3 4 5 6 7 8 9]\n",
      "<class 'numpy.ndarray'>\n",
      "1\n",
      "(10,)\n",
      "8\n",
      "80\n"
     ]
    }
   ],
   "source": [
    "a = np.array(range(10))\n",
    "print(a)\n",
    "\n",
    "# ndarray means n-dimensional array\n",
    "print(type(a))\n",
    "\n",
    "# number of dimensions\n",
    "print(a.ndim)\n",
    "\n",
    "# array shape\n",
    "print(a.shape)\n",
    "\n",
    "# Bytes per element\n",
    "print(a.itemsize)\n",
    "\n",
    "# Bytes of memory used\n",
    "print(a.nbytes)"
   ]
  },
  {
   "cell_type": "code",
   "execution_count": 3,
   "metadata": {},
   "outputs": [
    {
     "name": "stdout",
     "output_type": "stream",
     "text": [
      "x: (10,)\n",
      "y: 10\n"
     ]
    }
   ],
   "source": [
    "# what (10,) means one element tuple  \n",
    "x = 10,\n",
    "y = (10)\n",
    "\n",
    "print('x:', x)\n",
    "print('y:', y)"
   ]
  },
  {
   "cell_type": "code",
   "execution_count": 4,
   "metadata": {},
   "outputs": [
    {
     "name": "stdout",
     "output_type": "stream",
     "text": [
      "int64\n",
      "[10  1  2  3  4  5  6  7  8  9]\n",
      "[-1 -1 -1 -1 -1 -1 -1 -1 -1 -1]\n"
     ]
    }
   ],
   "source": [
    "# Numpy array is mutable. \n",
    "a = np.array(range(10))\n",
    "\n",
    "# element data type\n",
    "print(a.dtype)\n",
    "\n",
    "# Beware of coercion\n",
    "a[0] = 10.6\n",
    "print(a)\n",
    "\n",
    "a.fill(-1.3)\n",
    "print(a)"
   ]
  },
  {
   "cell_type": "code",
   "execution_count": 5,
   "metadata": {},
   "outputs": [
    {
     "name": "stdout",
     "output_type": "stream",
     "text": [
      "int64\n",
      "float64\n",
      "complex128\n",
      "int32\n"
     ]
    }
   ],
   "source": [
    "a = np.array([1, 2, 3])\n",
    "print(a.dtype)\n",
    "\n",
    "a = np.array([1., 2, 3])\n",
    "print(a.dtype)\n",
    "\n",
    "a = np.array([1.0+1j, 2, 3])\n",
    "print(a.dtype)\n",
    "\n",
    "a = np.array([1., 2, 3], dtype='int32')\n",
    "print(a.dtype)"
   ]
  },
  {
   "cell_type": "code",
   "execution_count": 6,
   "metadata": {},
   "outputs": [
    {
     "name": "stdout",
     "output_type": "stream",
     "text": [
      "1\n",
      "2\n",
      "3\n",
      "1\n",
      "2\n",
      "3\n",
      "[10 20 30]\n"
     ]
    }
   ],
   "source": [
    "x = [1, 2, 3]\n",
    "\n",
    "for i in x:\n",
    "    print(i)\n",
    "\n",
    "# In numpy, for-loop is a not good idea due to performance issue\n",
    "x = np.array([1, 2, 3])\n",
    "\n",
    "for i in x:\n",
    "    print(i)\n",
    "    \n",
    "# Thus, broadcasting opertion is a better solution than for-loop\n",
    "\n",
    "print(a * 10)"
   ]
  },
  {
   "cell_type": "code",
   "execution_count": 7,
   "metadata": {},
   "outputs": [
    {
     "name": "stdout",
     "output_type": "stream",
     "text": [
      "[1, 2, 3, 4, 5]\n"
     ]
    }
   ],
   "source": [
    "x = [1, 2, 3]\n",
    "x.append(4)\n",
    "\n",
    "# sum is equal to 'append' method of list\n",
    "x = x + [5]\n",
    "\n",
    "print(x)"
   ]
  },
  {
   "cell_type": "markdown",
   "metadata": {},
   "source": [
    "numpy는 list와는 다르게 '+'는 append 기능을 하지 않는다."
   ]
  },
  {
   "cell_type": "code",
   "execution_count": 8,
   "metadata": {},
   "outputs": [
    {
     "name": "stdout",
     "output_type": "stream",
     "text": [
      "[6 7 8]\n"
     ]
    }
   ],
   "source": [
    "x = np.array([1, 2, 3])\n",
    "# 'append' and '__sum__' operator do not exit on numpy array\n",
    "\n",
    "# x.append(4)\n",
    "x = x + [5]\n",
    "print(x)"
   ]
  },
  {
   "cell_type": "code",
   "execution_count": 9,
   "metadata": {},
   "outputs": [
    {
     "name": "stdout",
     "output_type": "stream",
     "text": [
      "list:  [1, 2, 3, 2, 3, 4]\n",
      "np:  [3 5 7]\n"
     ]
    }
   ],
   "source": [
    "# In plain list '__sum__' operator concaterate two operends \n",
    "a = [1, 2, 3]\n",
    "b = [2, 3, 4]\n",
    "\n",
    "d = a + b\n",
    "print('list: ',d)\n",
    "\n",
    "# However, in Numpy '__sum__' operator adds two operends element by element.\n",
    "a = np.array([1, 2, 3])\n",
    "b = np.array([2, 3, 4])\n",
    "\n",
    "d = a + b\n",
    "print('np: ', d)"
   ]
  },
  {
   "cell_type": "code",
   "execution_count": 10,
   "metadata": {},
   "outputs": [
    {
     "name": "stdout",
     "output_type": "stream",
     "text": [
      "[1, 2, 3, 1, 2, 3]\n"
     ]
    }
   ],
   "source": [
    "x = [1, 2, 3]\n",
    "# The plain list doesn't support exponentiation 는 다음과 같은 동작은 정의되어 있지 않다.\n",
    "# print(x**2)\n",
    "\n",
    "# 곱하기 동작은 다음과 같이 정의되어 있다.\n",
    "print(x*2)"
   ]
  },
  {
   "cell_type": "code",
   "execution_count": 11,
   "metadata": {},
   "outputs": [
    {
     "name": "stdout",
     "output_type": "stream",
     "text": [
      "[1 4 9]\n",
      "[1. 2. 3.]\n",
      "[0.         0.69314718 1.09861229]\n",
      "[1. 2. 3.]\n"
     ]
    }
   ],
   "source": [
    "x = np.array([1, 2, 3])\n",
    "\n",
    "x = x**2\n",
    "print(x)\n",
    "x = np.sqrt(x)\n",
    "print(x)\n",
    "x = np.log(x)\n",
    "print(x)\n",
    "x = np.exp(x)\n",
    "print(x)"
   ]
  },
  {
   "cell_type": "code",
   "execution_count": 72,
   "metadata": {},
   "outputs": [
    {
     "name": "stdout",
     "output_type": "stream",
     "text": [
      "train_data.size:  900\n",
      "test_data.size:  100\n"
     ]
    }
   ],
   "source": [
    "# The example of how to use slicing in practice\n",
    "\n",
    "data = np.arange(1000)\n",
    "np.random.shuffle(data)\n",
    "\n",
    "total_size = int(data.size * 0.9)\n",
    "\n",
    "train_data = data[:total_size]\n",
    "test_data = data[total_size:]\n",
    "\n",
    "print('train_data.size: ', train_data.size)\n",
    "print('test_data.size: ', test_data.size)"
   ]
  },
  {
   "cell_type": "markdown",
   "metadata": {},
   "source": [
    "##  Slicing\n",
    "\n",
    "The following is the basic form of slicing\n",
    "\n",
    "```python\n",
    "var[lower:upper:step]\n",
    "```"
   ]
  },
  {
   "cell_type": "code",
   "execution_count": 109,
   "metadata": {},
   "outputs": [
    {
     "name": "stdout",
     "output_type": "stream",
     "text": [
      "[10 11 12 13 14 15 16 17 18 19]\n",
      "c before changing an element : [10 11 12 13 14]\n",
      "c after changing an element : [10  3 12 13 14]\n",
      "a\n",
      "   C_CONTIGUOUS : True\n",
      "  F_CONTIGUOUS : True\n",
      "  OWNDATA : True\n",
      "  WRITEABLE : True\n",
      "  ALIGNED : True\n",
      "  WRITEBACKIFCOPY : False\n",
      "  UPDATEIFCOPY : False\n",
      "c\n",
      "   C_CONTIGUOUS : True\n",
      "  F_CONTIGUOUS : True\n",
      "  OWNDATA : False\n",
      "  WRITEABLE : True\n",
      "  ALIGNED : True\n",
      "  WRITEBACKIFCOPY : False\n",
      "  UPDATEIFCOPY : False\n",
      "a[5:-2]  [15 16 17]\n",
      "a[5:-2]  [15 16 17]\n",
      "a[:-5]  [10  3 12 13 14]\n",
      "a[::3]  [10 13 16 19]\n",
      "a[2:-3:2]  [12 14 16]\n"
     ]
    }
   ],
   "source": [
    "# var[lower:upper:step]\n",
    "\n",
    "a = np.array(range(10, 20))\n",
    "print(a)\n",
    "\n",
    "# Slicing is not a deep copy\n",
    "c = a[:5]\n",
    "print(f'c before changing an element :', c)\n",
    "a[1] = 3\n",
    "print(f'c after changing an element :', c)\n",
    "\n",
    "print('a\\n', a.flags)\n",
    "print('c\\n', c.flags)\n",
    "\n",
    "print('a[5:-2] ', a[5:-2])\n",
    "print('a[5:-2] ', a[5:-2])\n",
    "\n",
    "# ommited boundaries are assumed to be the beginning or end of list\n",
    "print('a[:-5] ', a[:-5])\n",
    "\n",
    "print('a[::3] ', a[::3])\n",
    "\n",
    "print('a[2:-3:2] ', a[2:-3:2])"
   ]
  },
  {
   "cell_type": "code",
   "execution_count": 27,
   "metadata": {},
   "outputs": [
    {
     "name": "stdout",
     "output_type": "stream",
     "text": [
      "[[ 0  1  2  3  4  5]\n",
      " [ 6  7  8  9 10 11]\n",
      " [12 13 14 15 16 17]\n",
      " [18 19 20 21 22 23]\n",
      " [24 25 26 27 28 29]\n",
      " [30 31 32 33 34 35]] \n",
      "\n",
      "a[3,3]:\n",
      " 21\n",
      "a[0, 3:5]:\n",
      " [3 4]\n",
      "a[4:, 4:]:\n",
      " [[28 29]\n",
      " [34 35]]\n",
      "a[2::2, ::2]:\n",
      " [[12 14 16]\n",
      " [24 26 28]]\n"
     ]
    }
   ],
   "source": [
    "# Multi-dimentions slicing\n",
    "a = np.arange(36).reshape(6, 6)\n",
    "print(a,'\\n')\n",
    "\n",
    "# In numpy, a[3, 3] is a much better way to access element in multi-dimentional array\n",
    "print('a[3,3]:\\n', a[3,3])\n",
    "\n",
    "print('a[0, 3:5]:\\n', a[0, 3:5])\n",
    "print('a[4:, 4:]:\\n', a[4:, 4:])\n",
    "print('a[2::2, ::2]:\\n', a[2::2, ::2])"
   ]
  },
  {
   "cell_type": "markdown",
   "metadata": {},
   "source": [
    "## Fancy Indexing in 1-D"
   ]
  },
  {
   "cell_type": "code",
   "execution_count": 50,
   "metadata": {},
   "outputs": [
    {
     "name": "stdout",
     "output_type": "stream",
     "text": [
      "[ 0 10 20 30 40 50 60 70 80 90]\n",
      "[10 20 80]\n"
     ]
    }
   ],
   "source": [
    "# fancy indexing\n",
    "a = np.arange(0, 100, 10)\n",
    "indices = [1, 2, -2]\n",
    "\n",
    "b = a[indices]\n",
    "\n",
    "print(a)\n",
    "print(b)"
   ]
  },
  {
   "cell_type": "code",
   "execution_count": 83,
   "metadata": {},
   "outputs": [
    {
     "name": "stdout",
     "output_type": "stream",
     "text": [
      "[ 0 10 20 30 40 50 60 70 80 90]\n",
      "[ True False False  True False  True  True  True False  True]\n",
      "[ 0 30 50 60 70 90]\n",
      "(array([0, 3, 5, 6, 7, 9]),)\n"
     ]
    }
   ],
   "source": [
    "# boolean mask\n",
    "a = np.arange(0, 100, 10)\n",
    "mask = np.array(np.random.randint(0, 2, 10), dtype=bool)\n",
    "\n",
    "print(a)\n",
    "print(mask)\n",
    "print(a[mask])\n",
    "\n",
    "# if you want to find out positions of 'True'\n",
    "print(np.nonzero(mask))"
   ]
  },
  {
   "cell_type": "code",
   "execution_count": 74,
   "metadata": {},
   "outputs": [
    {
     "name": "stdout",
     "output_type": "stream",
     "text": [
      "[ 0 10 20 30 40 50 60 70 80 90]\n",
      "[ 0 10 20]\n"
     ]
    }
   ],
   "source": [
    "# conditional mask\n",
    "a = np.arange(0, 100, 10)\n",
    "mask = a < 30\n",
    "\n",
    "print(a)\n",
    "print(mask)\n",
    "print(a[mask])\n",
    "print(a[a<30])"
   ]
  },
  {
   "cell_type": "code",
   "execution_count": 90,
   "metadata": {},
   "outputs": [
    {
     "name": "stdout",
     "output_type": "stream",
     "text": [
      "a < 80:  [ True  True  True  True  True  True  True  True False False]\n",
      "a > 40:  [False False False False False  True  True  True  True  True]\n",
      "(a > 40) & (a < 80):  [False False False False False  True  True  True False False]\n",
      "intersected indices:  [5 6 7]\n"
     ]
    }
   ],
   "source": [
    "# Tricky part\n",
    "a = np.arange(0, 100, 10)\n",
    "\n",
    "print('a < 80: ', a < 80)\n",
    "print('a > 40: ', a > 40)\n",
    "\n",
    "# Binary operators: and, or, not\n",
    "# Binary operators requires both operands to be booleans. However, a > 40 isn't either True or False\n",
    "# Thus the following doesn't work\n",
    "# print(a > 40 and a < 80)\n",
    "\n",
    "# In contrast, Bitwise doesn't require the above mentioned\n",
    "# Bitwise operators:\n",
    "# & (and)\n",
    "# | (or)\n",
    "# ~ (not)\n",
    "# ^ (xor)\n",
    "\n",
    "# So, you can use the following\n",
    "print('(a > 40) & (a < 80): ', (a > 40) & (a < 80))\n",
    "\n",
    "# Other way to solve the above\n",
    "less = a < 80\n",
    "more = a > 40\n",
    "\n",
    "print('intersected indices: ',np.intersect1d(np.nonzero(less), np.nonzero(more)))"
   ]
  },
  {
   "cell_type": "markdown",
   "metadata": {},
   "source": [
    "## Fancy Indexing in 2-D"
   ]
  },
  {
   "cell_type": "code",
   "execution_count": 114,
   "metadata": {},
   "outputs": [
    {
     "name": "stdout",
     "output_type": "stream",
     "text": [
      "[[ 0  1  2  3  4  5]\n",
      " [ 6  7  8  9 10 11]\n",
      " [12 13 14 15 16 17]\n",
      " [18 19 20 21 22 23]\n",
      " [24 25 26 27 28 29]\n",
      " [30 31 32 33 34 35]] \n",
      "\n",
      "a[[0, 1, 2, 3], [1, 2, 3, 4]]:  [ 1  8 15 22]\n",
      "a[3:, [0, 2, 4]]: \n",
      " [[18 20 22]\n",
      " [24 26 28]\n",
      " [30 32 34]]\n",
      "a[3:, [0, 2, 4]]: \n",
      " [[18 20 22]\n",
      " [24 26 28]\n",
      " [30 32 34]]\n",
      "a[3:, [0, 2, 4]]: \n",
      " [[18 20 22]\n",
      " [24 26 28]\n",
      " [30 32 34]]\n"
     ]
    }
   ],
   "source": [
    "a = np.arange(36).reshape(6, 6)\n",
    "print(a,'\\n')\n",
    "\n",
    "# a[[x coordinates], [y coordinates]]\n",
    "print('a[[0, 1, 2, 3], [1, 2, 3, 4]]: ', a[[0, 1, 2, 3], [1, 2, 3, 4]])\n",
    "\n",
    "# you can use both slicing and indexing in the same bracket \n",
    "print('a[3:, [0, 2, 4]]:', '\\n', a[3:, [0, 2, 4]])\n",
    "\n",
    "# you can use both slicing and indexing in the same bracket\n",
    "# One thing you should know that while slicing is swallow copy, indexing is deep copy  \n",
    "c = a[3:, [0, 2, 4]]\n",
    "print('a[3:, [0, 2, 4]]:', '\\n', c)\n",
    "a[3, 2] = 1\n",
    "print('a[3:, [0, 2, 4]]:', '\\n', c)"
   ]
  },
  {
   "cell_type": "markdown",
   "metadata": {},
   "source": [
    "## Multi-Dimensional Arrays\n",
    "\n",
    "- Operations between multiple array objects are first checked for proper shape match\n",
    "- Matematical operator (+, -, *, /, exp, log, etc) apply element by element on the values\n",
    "- Reduction operations (mean, std, skew, kurt, sum, prod, etc) apply to the whole array, unless an axis is specified\n",
    "- Missing values propagate unless explicitly ignored  \n",
    "<br>\n",
    "<br>\n",
    "<img src=\"img/md.png\" alt=\"drawing\" style=\"width:400px;\"/>"
   ]
  },
  {
   "cell_type": "markdown",
   "metadata": {},
   "source": [
    "## Dot product\n",
    "내적은 딥러닝을 포함해서 다양한 머신러닝 알고리즘에서 다양하게 사용된다."
   ]
  },
  {
   "cell_type": "code",
   "execution_count": 14,
   "metadata": {},
   "outputs": [
    {
     "name": "stdout",
     "output_type": "stream",
     "text": [
      "[4 4]\n",
      "[4 2]\n",
      "6\n",
      "6\n",
      "6\n"
     ]
    }
   ],
   "source": [
    "a = np.array([2, 2])\n",
    "b = np.array([2, 1])\n",
    "\n",
    "# scalar값을 곱할 때는 각 element에 곱이 수행된다.\n",
    "print(a*2)\n",
    "\n",
    "# vector간의 element-wise 곱을 수행한다.\n",
    "print(a*b)\n",
    "\n",
    "# 내적은 다음과 같이 수행된다.\n",
    "print(np.sum(a*b))\n",
    "\n",
    "# 제공되는 dot product는 다음과 같다.\n",
    "print(np.dot(a, b))\n",
    "print(a.dot(b))"
   ]
  },
  {
   "cell_type": "markdown",
   "metadata": {},
   "source": [
    "List를 이용한 dot product와 numpy를 이용한 dot product의 성능 비교를 살펴보자."
   ]
  },
  {
   "cell_type": "code",
   "execution_count": 15,
   "metadata": {},
   "outputs": [
    {
     "name": "stdout",
     "output_type": "stream",
     "text": [
      "List:  0.000137\n",
      "Numpy:  5.6e-05\n",
      "Numpy is faster than list 2.446428571428571 times\n"
     ]
    }
   ],
   "source": [
    "from datetime import datetime\n",
    "\n",
    "a = range(100)\n",
    "b = range(100)\n",
    "\n",
    "t0 = datetime.now()\n",
    "\n",
    "scalar = 0\n",
    "for i in range(len(a)):\n",
    "    scalar += (a[i] * b[i])\n",
    "    \n",
    "list_duration = (datetime.now() - t0)\n",
    "\n",
    "print(\"List: \",list_duration.total_seconds())\n",
    "\n",
    "# 정규 분포로 부터 랜덤값을 반환한다. 파라미터는 shape을 나타낸다.\n",
    "# print(np.random.randn(2, 3))\n",
    "\n",
    "a = np.array(range(100))\n",
    "b = np.array(range(100))\n",
    "\n",
    "t0 = datetime.now()\n",
    "\n",
    "a.dot(b)\n",
    "\n",
    "np_duration = (datetime.now() - t0)\n",
    "\n",
    "print(\"Numpy: \", np_duration.total_seconds())\n",
    "\n",
    "print(\"Numpy is faster than list {} times\".format(list_duration.total_seconds() / np_duration.total_seconds()))"
   ]
  },
  {
   "cell_type": "markdown",
   "metadata": {},
   "source": [
    "## Vectors and Matrices"
   ]
  },
  {
   "cell_type": "code",
   "execution_count": 42,
   "metadata": {},
   "outputs": [
    {
     "name": "stdout",
     "output_type": "stream",
     "text": [
      "type(x):  <class 'numpy.ndarray'>\n",
      "x shape: (2, 2)\n",
      "x: [[1 2]\n",
      " [3 4]]\n",
      "x[0]:  [1 2]\n",
      "x[0, 0]:  1\n",
      "x.T:  [[1 3]\n",
      " [2 4]]\n"
     ]
    }
   ],
   "source": [
    "x = np.array([[1, 2], [3, 4]]) \n",
    "print('type(x): ', type(x))\n",
    "print(f'x shape: {x.shape}')\n",
    "print('x:', x)\n",
    "print('x[0]: ', x[0])\n",
    "print('x[0, 0]: ', x[0, 0])\n",
    "print('x.T: \\n', x.T)"
   ]
  },
  {
   "cell_type": "code",
   "execution_count": 44,
   "metadata": {},
   "outputs": [
    {
     "name": "stdout",
     "output_type": "stream",
     "text": [
      "type(x):  <class 'numpy.matrixlib.defmatrix.matrix'>\n",
      "x shape: (2, 2)\n",
      "x: [[1 2]\n",
      " [3 4]]\n",
      "x[0]:  [[1 2]]\n",
      "x[0, 0]:  1\n",
      "x.T: \n",
      " [[1 3]\n",
      " [2 4]]\n"
     ]
    }
   ],
   "source": [
    "x = np.matrix([[1, 2], [3, 4]])\n",
    "print('type(x): ', type(x))\n",
    "print(f'x shape: {x.shape}')\n",
    "print('x:', x)\n",
    "print('x[0]: ', x[0])\n",
    "print('x[0, 0]: ', x[0, 0])\n",
    "print('x.T: \\n', x.T)"
   ]
  },
  {
   "cell_type": "code",
   "execution_count": 18,
   "metadata": {},
   "outputs": [
    {
     "name": "stdout",
     "output_type": "stream",
     "text": [
      "[0. 0. 0. 0. 0.]\n",
      "[[0. 0. 0.]\n",
      " [0. 0. 0.]\n",
      " [0. 0. 0.]]\n",
      "[[1. 1. 1.]\n",
      " [1. 1. 1.]\n",
      " [1. 1. 1.]]\n",
      "[[0.23026583 0.56888947 0.74525327]\n",
      " [0.76372824 0.96930679 0.80709215]\n",
      " [0.54143546 0.89154384 0.02657295]]\n",
      "[[-0.48045304  2.03111105 -0.35220643]\n",
      " [ 0.54623093 -0.31747465 -0.98978466]\n",
      " [-0.4734849   0.35937731 -1.9028411 ]]\n"
     ]
    }
   ],
   "source": [
    "print(np.zeros(5))\n",
    "# 파라미터가 2개 들어가는 것이 아니라 tuple에 첫 번째 파라미터로 들어간다.\n",
    "print(np.zeros((3,3)))\n",
    "# 모든 값이 1로된 array를 반환한다.\n",
    "print(np.ones((3,3)))\n",
    "# 0부터 1사이의 값을 반환한다.\n",
    "print(np.random.random((3,3)))\n",
    "# 3x3 배열 정규 분포 반환. 입력이 2개 들어간다. \n",
    "print(np.random.randn(3,3))"
   ]
  },
  {
   "cell_type": "code",
   "execution_count": 19,
   "metadata": {},
   "outputs": [
    {
     "name": "stdout",
     "output_type": "stream",
     "text": [
      "0.0015261588589282084\n",
      "1.0079976566255637\n"
     ]
    }
   ],
   "source": [
    "x = np.random.randn(100,100)\n",
    "print(x.mean())\n",
    "print(x.var())"
   ]
  },
  {
   "cell_type": "code",
   "execution_count": 20,
   "metadata": {},
   "outputs": [
    {
     "name": "stdout",
     "output_type": "stream",
     "text": [
      "[[-2.   1. ]\n",
      " [ 1.5 -0.5]]\n",
      "[[1.00000000e+00 1.11022302e-16]\n",
      " [0.00000000e+00 1.00000000e+00]]\n"
     ]
    },
    {
     "data": {
      "text/plain": [
       "-2.0000000000000004"
      ]
     },
     "execution_count": 20,
     "metadata": {},
     "output_type": "execute_result"
    }
   ],
   "source": [
    "x = np.array([[1,2],[3,4]])\n",
    "# 역행렬 inverse matrix\n",
    "i = np.linalg.inv(x)\n",
    "print(i)\n",
    "print(x.dot(i))\n",
    "# determiant\n",
    "np.linalg.det(x)\n"
   ]
  },
  {
   "cell_type": "code",
   "execution_count": 21,
   "metadata": {},
   "outputs": [
    {
     "name": "stdout",
     "output_type": "stream",
     "text": [
      "[[3 4]\n",
      " [6 8]]\n"
     ]
    }
   ],
   "source": [
    "x = np.array([1, 2])\n",
    "y = np.array([3, 4])\n",
    "\n",
    "# 외적 outer product\n",
    "print(np.outer(x, y))"
   ]
  },
  {
   "cell_type": "code",
   "execution_count": 22,
   "metadata": {},
   "outputs": [
    {
     "name": "stdout",
     "output_type": "stream",
     "text": [
      "5\n",
      "5\n"
     ]
    }
   ],
   "source": [
    "# trace : sum of diagnal values\n",
    "x = np.array([[1,2],[3,4]])\n",
    "print(np.diag(x).sum())\n",
    "print(np.trace(x))"
   ]
  },
  {
   "cell_type": "markdown",
   "metadata": {},
   "source": [
    "## Save and Load\n",
    "\n",
    "저장된 파일의 확장자를 통해서 저장된 데이터 타입을 알 수 있다."
   ]
  },
  {
   "cell_type": "code",
   "execution_count": 23,
   "metadata": {},
   "outputs": [
    {
     "name": "stdout",
     "output_type": "stream",
     "text": [
      "x:  [[1 2 3]\n",
      " [4 5 6]]\n",
      "x(mmap_mode) :  [4 5 6]\n",
      "a:  [[1 2 3]\n",
      " [4 5 6]]\n",
      "b:  [1 2 3]\n"
     ]
    }
   ],
   "source": [
    "# 파일 확장자가 .npy일 경우, array를 반환한다.\n",
    "x = np.array([[1, 2, 3], [4, 5, 6]])\n",
    "y = np.array([1, 2, 3])\n",
    "\n",
    "np.save('./array', x)\n",
    "data = np.load('./array.npy')\n",
    "print('x: ', data)\n",
    "\n",
    "data = np.load('./array.npy', mmap_mode='r')\n",
    "print('x(mmap_mode) : ', data[1, :])\n",
    "\n",
    "# 파일 확장자가 .npz일 경우 dictionary 형태의 key-value 형태로 반환된다.\n",
    "# {filename: array}\n",
    "np.savez('dict.npz', a=x, b=y)\n",
    "data = np.load('./dict.npz')\n",
    "print('a: ', data['a'])\n",
    "print('b: ', data['b'])\n"
   ]
  },
  {
   "cell_type": "markdown",
   "metadata": {},
   "source": [
    "## Miscellaneous"
   ]
  },
  {
   "cell_type": "code",
   "execution_count": 24,
   "metadata": {},
   "outputs": [
    {
     "name": "stdout",
     "output_type": "stream",
     "text": [
      "[1 5]\n",
      "[2 6]\n",
      "[3 7]\n"
     ]
    }
   ],
   "source": [
    "data = np.array([[1,2,3], [5,6,7]])\n",
    "\n",
    "print(data[:,0])\n",
    "print(data[:,1])\n",
    "print(data[:,2])"
   ]
  }
 ],
 "metadata": {
  "kernelspec": {
   "display_name": "Python 3",
   "language": "python",
   "name": "python3"
  },
  "language_info": {
   "codemirror_mode": {
    "name": "ipython",
    "version": 3
   },
   "file_extension": ".py",
   "mimetype": "text/x-python",
   "name": "python",
   "nbconvert_exporter": "python",
   "pygments_lexer": "ipython3",
   "version": "3.6.6"
  }
 },
 "nbformat": 4,
 "nbformat_minor": 2
}
