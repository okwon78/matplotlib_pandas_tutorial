{
 "cells": [
  {
   "cell_type": "markdown",
   "metadata": {},
   "source": [
    "# Numpy Quick Review"
   ]
  },
  {
   "cell_type": "markdown",
   "metadata": {},
   "source": [
    "## Basic Operation\n",
    "파이썬 리스트와 numpy 배열과의 차이를 알아 보고 numpy가 제공하는 기본적인 수학 연산을 살펴보자."
   ]
  },
  {
   "cell_type": "code",
   "execution_count": 4,
   "metadata": {},
   "outputs": [],
   "source": [
    "import numpy as np"
   ]
  },
  {
   "cell_type": "code",
   "execution_count": 31,
   "metadata": {},
   "outputs": [
    {
     "name": "stdout",
     "output_type": "stream",
     "text": [
      "[0 1 2 3 4 5 6 7 8 9]\n",
      "<class 'numpy.ndarray'>\n",
      "int64\n",
      "1\n",
      "(10,)\n",
      "8\n",
      "80\n"
     ]
    }
   ],
   "source": [
    "a = np.array(range(10))\n",
    "print(a)\n",
    "\n",
    "# ndarray means n-dimensional array\n",
    "print(type(a))\n",
    "\n",
    "# element data type\n",
    "print(a.dtype)\n",
    "\n",
    "# number of dimensions\n",
    "print(a.ndim)\n",
    "\n",
    "# array shape\n",
    "print(a.shape)\n",
    "\n",
    "# Bytes per element\n",
    "print(a.itemsize)\n",
    "\n",
    "# Bytes of memory used\n",
    "print(a.nbytes)"
   ]
  },
  {
   "cell_type": "code",
   "execution_count": 21,
   "metadata": {},
   "outputs": [
    {
     "name": "stdout",
     "output_type": "stream",
     "text": [
      "1\n",
      "2\n",
      "3\n",
      "1\n",
      "2\n",
      "3\n"
     ]
    }
   ],
   "source": [
    "x = [1, 2, 3]\n",
    "\n",
    "for i in x:\n",
    "    print(i)\n",
    "    \n",
    "x = np.array([1, 2, 3])\n",
    "\n",
    "for i in x:\n",
    "    print(i)"
   ]
  },
  {
   "cell_type": "code",
   "execution_count": 4,
   "metadata": {},
   "outputs": [
    {
     "name": "stdout",
     "output_type": "stream",
     "text": [
      "[1, 2, 3, 4, 5]\n"
     ]
    }
   ],
   "source": [
    "x = [1, 2, 3]\n",
    "x.append(4)\n",
    "\n",
    "# sum is equal to 'append' method of list\n",
    "x = x + [5]\n",
    "\n",
    "print(x)"
   ]
  },
  {
   "cell_type": "markdown",
   "metadata": {},
   "source": [
    "numpy는 list와는 다르게 '+'는 append 기능을 하지 않는다."
   ]
  },
  {
   "cell_type": "code",
   "execution_count": 5,
   "metadata": {},
   "outputs": [
    {
     "name": "stdout",
     "output_type": "stream",
     "text": [
      "[6 7 8]\n"
     ]
    }
   ],
   "source": [
    "x = np.array([1, 2, 3])\n",
    "# 'append' and '__sum__' operator do not exit on numpy array\n",
    "\n",
    "# x.append(4)\n",
    "x = x + [5]\n",
    "print(x)"
   ]
  },
  {
   "cell_type": "code",
   "execution_count": 20,
   "metadata": {},
   "outputs": [
    {
     "name": "stdout",
     "output_type": "stream",
     "text": [
      "list:  [1, 2, 3, 2, 3, 4]\n",
      "np:  [3 5 7]\n"
     ]
    }
   ],
   "source": [
    "# In plain list '__sum__' operator concaterate two operends \n",
    "a = [1, 2, 3]\n",
    "b = [2, 3, 4]\n",
    "\n",
    "d = a + b\n",
    "print('list: ',d)\n",
    "\n",
    "# However, in Numpy '__sum__' operator adds two operends element by element.\n",
    "a = np.array([1, 2, 3])\n",
    "b = np.array([2, 3, 4])\n",
    "\n",
    "d = a + b\n",
    "print('np: ', d)"
   ]
  },
  {
   "cell_type": "code",
   "execution_count": 1,
   "metadata": {},
   "outputs": [
    {
     "name": "stdout",
     "output_type": "stream",
     "text": [
      "[1, 2, 3, 1, 2, 3]\n"
     ]
    }
   ],
   "source": [
    "x = [1, 2, 3]\n",
    "# The plain list doesn't support exponentiation 는 다음과 같은 동작은 정의되어 있지 않다.\n",
    "# print(x**2)\n",
    "\n",
    "# 곱하기 동작은 다음과 같이 정의되어 있다.\n",
    "print(x*2)"
   ]
  },
  {
   "cell_type": "code",
   "execution_count": 7,
   "metadata": {},
   "outputs": [
    {
     "name": "stdout",
     "output_type": "stream",
     "text": [
      "[1 4 9]\n",
      "[1. 2. 3.]\n",
      "[0.         0.69314718 1.09861229]\n",
      "[1. 2. 3.]\n"
     ]
    }
   ],
   "source": [
    "x = np.array([1, 2, 3])\n",
    "\n",
    "x = x**2\n",
    "print(x)\n",
    "x = np.sqrt(x)\n",
    "print(x)\n",
    "x = np.log(x)\n",
    "print(x)\n",
    "x = np.exp(x)\n",
    "print(x)"
   ]
  },
  {
   "cell_type": "markdown",
   "metadata": {},
   "source": [
    "## Dot product\n",
    "내적은 딥러닝을 포함해서 다양한 머신러닝 알고리즘에서 다양하게 사용된다."
   ]
  },
  {
   "cell_type": "code",
   "execution_count": 11,
   "metadata": {},
   "outputs": [
    {
     "name": "stdout",
     "output_type": "stream",
     "text": [
      "[4 4]\n",
      "[4 2]\n",
      "6\n",
      "6\n",
      "6\n"
     ]
    }
   ],
   "source": [
    "a = np.array([2, 2])\n",
    "b = np.array([2, 1])\n",
    "\n",
    "# scalar값을 곱할 때는 각 element에 곱이 수행된다.\n",
    "print(a*2)\n",
    "\n",
    "# vector간의 element-wise 곱을 수행한다.\n",
    "print(a*b)\n",
    "\n",
    "# 내적은 다음과 같이 수행된다.\n",
    "print(np.sum(a*b))\n",
    "\n",
    "# 제공되는 dot product는 다음과 같다.\n",
    "print(np.dot(a, b))\n",
    "print(a.dot(b))"
   ]
  },
  {
   "cell_type": "markdown",
   "metadata": {},
   "source": [
    "List를 이용한 dot product와 numpy를 이용한 dot product의 성능 비교를 살펴보자."
   ]
  },
  {
   "cell_type": "code",
   "execution_count": 10,
   "metadata": {},
   "outputs": [
    {
     "name": "stdout",
     "output_type": "stream",
     "text": [
      "List:  0.001078\n",
      "Numpy:  0.000129\n",
      "Numpy is faster than list 8.356589147286822 times\n"
     ]
    }
   ],
   "source": [
    "from datetime import datetime\n",
    "\n",
    "a = range(100)\n",
    "b = range(100)\n",
    "\n",
    "t0 = datetime.now()\n",
    "\n",
    "scalar = 0\n",
    "for i in range(len(a)):\n",
    "    scalar += (a[i] * b[i])\n",
    "    \n",
    "list_duration = (datetime.now() - t0)\n",
    "\n",
    "print(\"List: \",list_duration.total_seconds())\n",
    "\n",
    "# 정규 분포로 부터 랜덤값을 반환한다. 파라미터는 shape을 나타낸다.\n",
    "# print(np.random.randn(2, 3))\n",
    "\n",
    "a = np.array(range(100))\n",
    "b = np.array(range(100))\n",
    "\n",
    "t0 = datetime.now()\n",
    "\n",
    "a.dot(b)\n",
    "\n",
    "np_duration = (datetime.now() - t0)\n",
    "\n",
    "print(\"Numpy: \", np_duration.total_seconds())\n",
    "\n",
    "print(\"Numpy is faster than list {} times\".format(list_duration.total_seconds() / np_duration.total_seconds()))"
   ]
  },
  {
   "cell_type": "markdown",
   "metadata": {},
   "source": [
    "## Vectors and Matrices"
   ]
  },
  {
   "cell_type": "code",
   "execution_count": 11,
   "metadata": {},
   "outputs": [
    {
     "name": "stdout",
     "output_type": "stream",
     "text": [
      "[[1 2]\n",
      " [3 4]]\n",
      "[1 2]\n",
      "1\n"
     ]
    }
   ],
   "source": [
    "x = np.array([[1, 2], [3, 4]]) \n",
    "print(x)\n",
    "print(x[0])\n",
    "print(x[0][0])"
   ]
  },
  {
   "cell_type": "code",
   "execution_count": 12,
   "metadata": {},
   "outputs": [
    {
     "name": "stdout",
     "output_type": "stream",
     "text": [
      "[[1 2]\n",
      " [3 4]]\n",
      "[[1 2]]\n",
      "[[1 2]]\n",
      "[[1 3]\n",
      " [2 4]]\n"
     ]
    }
   ],
   "source": [
    "x = np.matrix([[1, 2], [3, 4]])\n",
    "print(x)\n",
    "print(x[0])\n",
    "print(x[0][0])\n",
    "print(x.T)"
   ]
  },
  {
   "cell_type": "code",
   "execution_count": 13,
   "metadata": {},
   "outputs": [
    {
     "name": "stdout",
     "output_type": "stream",
     "text": [
      "[0. 0. 0. 0. 0.]\n",
      "[[0. 0. 0.]\n",
      " [0. 0. 0.]\n",
      " [0. 0. 0.]]\n",
      "[[1. 1. 1.]\n",
      " [1. 1. 1.]\n",
      " [1. 1. 1.]]\n",
      "[[0.08164402 0.17594487 0.13263722]\n",
      " [0.78408654 0.89737295 0.50260133]\n",
      " [0.87232426 0.85581861 0.23590783]]\n",
      "[[-1.78766205 -1.4111447   0.05526427]\n",
      " [-0.83845748  0.16669731 -1.48838359]\n",
      " [-0.54618993  0.48382625  0.05239163]]\n"
     ]
    }
   ],
   "source": [
    "print(np.zeros(5))\n",
    "# 파라미터가 2개 들어가는 것이 아니라 tuple에 첫 번째 파라미터로 들어간다.\n",
    "print(np.zeros((3,3)))\n",
    "# 모든 값이 1로된 array를 반환한다.\n",
    "print(np.ones((3,3)))\n",
    "# 0부터 1사이의 값을 반환한다.\n",
    "print(np.random.random((3,3)))\n",
    "# 3x3 배열 정규 분포 반환. 입력이 2개 들어간다. \n",
    "print(np.random.randn(3,3))"
   ]
  },
  {
   "cell_type": "code",
   "execution_count": 14,
   "metadata": {},
   "outputs": [
    {
     "name": "stdout",
     "output_type": "stream",
     "text": [
      "-0.003597299348604\n",
      "0.9920394466501562\n"
     ]
    }
   ],
   "source": [
    "x = np.random.randn(100,100)\n",
    "print(x.mean())\n",
    "print(x.var())"
   ]
  },
  {
   "cell_type": "code",
   "execution_count": 15,
   "metadata": {},
   "outputs": [
    {
     "name": "stdout",
     "output_type": "stream",
     "text": [
      "[[-2.   1. ]\n",
      " [ 1.5 -0.5]]\n",
      "[[1.0000000e+00 0.0000000e+00]\n",
      " [8.8817842e-16 1.0000000e+00]]\n"
     ]
    },
    {
     "data": {
      "text/plain": [
       "-2.0000000000000004"
      ]
     },
     "execution_count": 15,
     "metadata": {},
     "output_type": "execute_result"
    }
   ],
   "source": [
    "x = np.array([[1,2],[3,4]])\n",
    "# 역행렬 inverse matrix\n",
    "i = np.linalg.inv(x)\n",
    "print(i)\n",
    "print(x.dot(i))\n",
    "# determiant\n",
    "np.linalg.det(x)\n"
   ]
  },
  {
   "cell_type": "code",
   "execution_count": 16,
   "metadata": {},
   "outputs": [
    {
     "name": "stdout",
     "output_type": "stream",
     "text": [
      "[[3 4]\n",
      " [6 8]]\n"
     ]
    }
   ],
   "source": [
    "x = np.array([1, 2])\n",
    "y = np.array([3, 4])\n",
    "\n",
    "# 외적 outer product\n",
    "print(np.outer(x, y))"
   ]
  },
  {
   "cell_type": "code",
   "execution_count": 17,
   "metadata": {},
   "outputs": [
    {
     "name": "stdout",
     "output_type": "stream",
     "text": [
      "5\n",
      "5\n"
     ]
    }
   ],
   "source": [
    "# trace : sum of diagnal values\n",
    "x = np.array([[1,2],[3,4]])\n",
    "print(np.diag(x).sum())\n",
    "print(np.trace(x))"
   ]
  },
  {
   "cell_type": "markdown",
   "metadata": {},
   "source": [
    "## Save and Load\n",
    "\n",
    "저장된 파일의 확장자를 통해서 저장된 데이터 타입을 알 수 있다."
   ]
  },
  {
   "cell_type": "code",
   "execution_count": 18,
   "metadata": {},
   "outputs": [
    {
     "name": "stdout",
     "output_type": "stream",
     "text": [
      "x:  [[1 2 3]\n",
      " [4 5 6]]\n",
      "x(mmap_mode) :  [4 5 6]\n",
      "a:  [[1 2 3]\n",
      " [4 5 6]]\n",
      "b:  [1 2 3]\n"
     ]
    }
   ],
   "source": [
    "# 파일 확장자가 .npy일 경우, array를 반환한다.\n",
    "x = np.array([[1, 2, 3], [4, 5, 6]])\n",
    "y = np.array([1, 2, 3])\n",
    "\n",
    "np.save('./array', x)\n",
    "data = np.load('./array.npy')\n",
    "print('x: ', data)\n",
    "\n",
    "data = np.load('./array.npy', mmap_mode='r')\n",
    "print('x(mmap_mode) : ', data[1, :])\n",
    "\n",
    "# 파일 확장자가 .npz일 경우 dictionary 형태의 key-value 형태로 반환된다.\n",
    "# {filename: array}\n",
    "np.savez('dict.npz', a=x, b=y)\n",
    "data = np.load('./dict.npz')\n",
    "print('a: ', data['a'])\n",
    "print('b: ', data['b'])\n"
   ]
  },
  {
   "cell_type": "markdown",
   "metadata": {},
   "source": [
    "## Miscellaneous"
   ]
  },
  {
   "cell_type": "code",
   "execution_count": 19,
   "metadata": {},
   "outputs": [
    {
     "name": "stdout",
     "output_type": "stream",
     "text": [
      "[1 5]\n",
      "[2 6]\n",
      "[3 7]\n"
     ]
    }
   ],
   "source": [
    "data = np.array([[1,2,3], [5,6,7]])\n",
    "\n",
    "print(data[:,0])\n",
    "print(data[:,1])\n",
    "print(data[:,2])"
   ]
  }
 ],
 "metadata": {
  "kernelspec": {
   "display_name": "Python 3",
   "language": "python",
   "name": "python3"
  },
  "language_info": {
   "codemirror_mode": {
    "name": "ipython",
    "version": 3
   },
   "file_extension": ".py",
   "mimetype": "text/x-python",
   "name": "python",
   "nbconvert_exporter": "python",
   "pygments_lexer": "ipython3",
   "version": "3.6.6"
  }
 },
 "nbformat": 4,
 "nbformat_minor": 2
}
