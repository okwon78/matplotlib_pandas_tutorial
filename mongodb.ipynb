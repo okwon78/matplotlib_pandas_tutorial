{
 "cells": [
  {
   "cell_type": "code",
   "execution_count": 12,
   "metadata": {},
   "outputs": [],
   "source": [
    "import pymongo\n",
    "from pprint import pprint as print"
   ]
  },
  {
   "cell_type": "code",
   "execution_count": 13,
   "metadata": {},
   "outputs": [],
   "source": [
    "client = pymongo.MongoClient('localhost', 27017)"
   ]
  },
  {
   "cell_type": "code",
   "execution_count": 14,
   "metadata": {},
   "outputs": [
    {
     "data": {
      "text/plain": [
       "<pymongo.results.InsertManyResult at 0x10a0c9c60>"
      ]
     },
     "execution_count": 14,
     "metadata": {},
     "output_type": "execute_result"
    }
   ],
   "source": [
    "#insert many\n",
    "db = client.db\n",
    "db.inventory.insert_many([\n",
    "   # MongoDB adds the _id field with an ObjectId if _id is not present\n",
    "   { \n",
    "       \"item\": \"journal\", \n",
    "       \"qty\": 25, \n",
    "       \"status\": \"A\",\n",
    "       \"size\": { \n",
    "           \"h\": 14, \n",
    "           \"w\": 21, \n",
    "           \"uom\": \"cm\" \n",
    "       }, \n",
    "       \"tags\": [ \"blank\", \"red\" ] \n",
    "   },\n",
    "   { \n",
    "       \"item\": \"notebook\", \n",
    "       \"qty\": 50, \n",
    "       \"status\": \"A\",\n",
    "       \"size\": { \n",
    "           \"h\": 8.5, \n",
    "           \"w\": 11, \n",
    "           \"uom\": \"in\" \n",
    "       }, \n",
    "       \"tags\": [ \"red\", \"blank\" ] \n",
    "   },\n",
    "   { \n",
    "       \"item\": \"paper\", \n",
    "       \"qty\": 100, \n",
    "       \"status\": \"D\",\n",
    "       \"size\": { \n",
    "           \"h\": 8.5, \n",
    "           \"w\": 11, \n",
    "           \"uom\": \"in\" \n",
    "       }, \n",
    "       \"tags\": [ \"red\", \"blank\", \"plain\" ] \n",
    "   },\n",
    "   { \n",
    "       \"item\": \"planner\", \n",
    "       \"qty\": 75, \n",
    "       \"status\": \"D\",\n",
    "       \"size\": { \n",
    "           \"h\": 22.85, \n",
    "           \"w\": 30, \n",
    "           \"uom\": \"cm\" \n",
    "       }, \n",
    "       \"tags\": [ \"blank\", \"red\" ] \n",
    "   },\n",
    "   { \n",
    "       \"item\": \"postcard\", \n",
    "       \"qty\": 45, \n",
    "       \"status\": \"A\",\n",
    "       \"size\": \n",
    "       { \n",
    "           \"h\": 10, \n",
    "           \"w\": 15.25, \n",
    "           \"uom\": \"cm\" \n",
    "       }, \n",
    "       \"tags\": [ \"blue\" ] }\n",
    "])"
   ]
  },
  {
   "cell_type": "code",
   "execution_count": 17,
   "metadata": {},
   "outputs": [
    {
     "name": "stdout",
     "output_type": "stream",
     "text": [
      "'journal'\n",
      "'notebook'\n",
      "'paper'\n",
      "'planner'\n",
      "'postcard'\n"
     ]
    }
   ],
   "source": [
    "for item in db.inventory.find():\n",
    "    print(item['item'])"
   ]
  },
  {
   "cell_type": "code",
   "execution_count": 24,
   "metadata": {},
   "outputs": [
    {
     "name": "stdout",
     "output_type": "stream",
     "text": [
      "{'_id': ObjectId('5b3c3aa1f89e3002ca5dc597'),\n",
      " 'item': 'postcard',\n",
      " 'qty': 45,\n",
      " 'size': {'h': 10, 'uom': 'cm', 'w': 15.25},\n",
      " 'status': 'A',\n",
      " 'tags': ['blue']}\n"
     ]
    }
   ],
   "source": [
    "# Exact match of dictionary\n",
    "cursor = db.inventory.find(\n",
    "    {'size' : dict({ \n",
    "           \"h\": 10, \n",
    "           \"w\": 15.25, \n",
    "           \"uom\": \"cm\" \n",
    "       })}\n",
    ")\n",
    "\n",
    "print(next(cursor))"
   ]
  },
  {
   "cell_type": "code",
   "execution_count": 25,
   "metadata": {},
   "outputs": [
    {
     "name": "stdout",
     "output_type": "stream",
     "text": [
      "{'_id': ObjectId('5b3c3aa1f89e3002ca5dc594'),\n",
      " 'item': 'notebook',\n",
      " 'qty': 50,\n",
      " 'size': {'h': 8.5, 'uom': 'in', 'w': 11},\n",
      " 'status': 'A',\n",
      " 'tags': ['red', 'blank']}\n"
     ]
    }
   ],
   "source": [
    "# The case of subdocument item\n",
    "cursor = db.inventory.find({\"size.uom\": \"in\"})\n",
    "print(next(cursor))"
   ]
  },
  {
   "cell_type": "code",
   "execution_count": 31,
   "metadata": {},
   "outputs": [
    {
     "name": "stdout",
     "output_type": "stream",
     "text": [
      "{'_id': ObjectId('5b3c3aa1f89e3002ca5dc593'),\n",
      " 'item': 'journal',\n",
      " 'qty': 25,\n",
      " 'size': {'h': 14, 'uom': 'cm', 'w': 21},\n",
      " 'status': 'A',\n",
      " 'tags': ['blank', 'red']}\n",
      "{'_id': ObjectId('5b3c3aa1f89e3002ca5dc596'),\n",
      " 'item': 'planner',\n",
      " 'qty': 75,\n",
      " 'size': {'h': 22.85, 'uom': 'cm', 'w': 30},\n",
      " 'status': 'D',\n",
      " 'tags': ['blank', 'red']}\n"
     ]
    }
   ],
   "source": [
    "cursor = db.inventory.find({'size.h': {'$gt' : 10 }})\n",
    "for item in cursor:\n",
    "    print(item)"
   ]
  },
  {
   "cell_type": "code",
   "execution_count": 34,
   "metadata": {},
   "outputs": [
    {
     "name": "stdout",
     "output_type": "stream",
     "text": [
      "{'_id': ObjectId('5b3c3aa1f89e3002ca5dc593'),\n",
      " 'item': 'journal',\n",
      " 'qty': 25,\n",
      " 'size': {'h': 14, 'uom': 'cm', 'w': 21},\n",
      " 'status': 'A',\n",
      " 'tags': ['blank', 'red']}\n",
      "{'_id': ObjectId('5b3c3aa1f89e3002ca5dc594'),\n",
      " 'item': 'notebook',\n",
      " 'qty': 50,\n",
      " 'size': {'h': 8.5, 'uom': 'in', 'w': 11},\n",
      " 'status': 'A',\n",
      " 'tags': ['red', 'blank']}\n",
      "{'_id': ObjectId('5b3c3aa1f89e3002ca5dc595'),\n",
      " 'item': 'paper',\n",
      " 'qty': 100,\n",
      " 'size': {'h': 8.5, 'uom': 'in', 'w': 11},\n",
      " 'status': 'D',\n",
      " 'tags': ['red', 'blank', 'plain']}\n",
      "{'_id': ObjectId('5b3c3aa1f89e3002ca5dc596'),\n",
      " 'item': 'planner',\n",
      " 'qty': 75,\n",
      " 'size': {'h': 22.85, 'uom': 'cm', 'w': 30},\n",
      " 'status': 'D',\n",
      " 'tags': ['blank', 'red']}\n",
      "{'_id': ObjectId('5b3c3aa1f89e3002ca5dc597'),\n",
      " 'item': 'postcard',\n",
      " 'qty': 45,\n",
      " 'size': {'h': 10, 'uom': 'cm', 'w': 15.25},\n",
      " 'status': 'A',\n",
      " 'tags': ['blue']}\n"
     ]
    }
   ],
   "source": [
    "for item in db.inventory.find({'status': {\"$in\" : ['A', 'D']}}):\n",
    "    print(item)"
   ]
  },
  {
   "cell_type": "code",
   "execution_count": null,
   "metadata": {},
   "outputs": [],
   "source": []
  }
 ],
 "metadata": {
  "kernelspec": {
   "display_name": "Python 3",
   "language": "python",
   "name": "python3"
  },
  "language_info": {
   "codemirror_mode": {
    "name": "ipython",
    "version": 3
   },
   "file_extension": ".py",
   "mimetype": "text/x-python",
   "name": "python",
   "nbconvert_exporter": "python",
   "pygments_lexer": "ipython3",
   "version": "3.6.5"
  }
 },
 "nbformat": 4,
 "nbformat_minor": 2
}
