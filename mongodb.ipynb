{
 "cells": [
  {
   "cell_type": "code",
   "execution_count": 80,
   "metadata": {},
   "outputs": [],
   "source": [
    "import pymongo\n",
    "from bson.son import SON\n",
    "from pprint import pprint"
   ]
  },
  {
   "cell_type": "code",
   "execution_count": 2,
   "metadata": {},
   "outputs": [],
   "source": [
    "client = pymongo.MongoClient('localhost', 27017)\n",
    "db = client.db"
   ]
  },
  {
   "cell_type": "code",
   "execution_count": 17,
   "metadata": {},
   "outputs": [
    {
     "data": {
      "text/plain": [
       "<pymongo.results.InsertOneResult at 0x10e1b0438>"
      ]
     },
     "execution_count": 17,
     "metadata": {},
     "output_type": "execute_result"
    }
   ],
   "source": [
    "# Insert one item\n",
    "db.inventory.insert_one(\n",
    "    {\"item\": \"canvas\",\n",
    "     \"qty\": 100,\n",
    "     \"status\": \"C\",\n",
    "     \"tags\": [\"cotton\"],\n",
    "     \"size\": {\"h\": 28, \"w\": 35.5, \"uom\": \"cm\"},\n",
    "     \"dim_cm\": [28, 35.5]})"
   ]
  },
  {
   "cell_type": "code",
   "execution_count": 113,
   "metadata": {},
   "outputs": [
    {
     "data": {
      "text/plain": [
       "<pymongo.results.InsertManyResult at 0x10e4d7360>"
      ]
     },
     "execution_count": 113,
     "metadata": {},
     "output_type": "execute_result"
    }
   ],
   "source": [
    "# Insert many items\n",
    "db.inventory.delete_many({})\n",
    "\n",
    "db.inventory.insert_many([\n",
    "   # MongoDB adds the _id field with an ObjectId if _id is not present\n",
    "   { \n",
    "       \"item\": \"journal\", \n",
    "       \"qty\": 25, \n",
    "       \"status\": \"A\",\n",
    "       \"size\": { \n",
    "           \"h\": 14, \n",
    "           \"w\": 21, \n",
    "           \"uom\": \"cm\" \n",
    "       }, \n",
    "       \"tags\": [ \"blank\", \"red\" ],\n",
    "       \"dim_cm\": [14, 21]\n",
    "   },\n",
    "   { \n",
    "       \"item\": \"notebook\", \n",
    "       \"qty\": 50, \n",
    "       \"status\": \"A\",\n",
    "       \"size\": { \n",
    "           \"h\": 8.5, \n",
    "           \"w\": 11, \n",
    "           \"uom\": \"in\" \n",
    "       }, \n",
    "       \"tags\": [ \"red\", \"blank\" ],\n",
    "       \"dim_cm\": [14, 21]\n",
    "   },\n",
    "   { \n",
    "       \"item\": \"paper\", \n",
    "       \"qty\": 100, \n",
    "       \"status\": \"D\",\n",
    "       \"size\": { \n",
    "           \"h\": 8.5, \n",
    "           \"w\": 11, \n",
    "           \"uom\": \"in\" \n",
    "       }, \n",
    "       \"tags\": [ \"red\", \"blank\", \"plain\" ],\n",
    "       \"dim_cm\": [8.5, 11]\n",
    "   },\n",
    "   { \n",
    "       \"item\": \"planner\", \n",
    "       \"qty\": 75, \n",
    "       \"status\": \"D\",\n",
    "       \"size\": { \n",
    "           \"h\": 22.85, \n",
    "           \"w\": 30, \n",
    "           \"uom\": \"cm\" \n",
    "       }, \n",
    "       \"tags\": [ \"blank\", \"red\" ] ,\n",
    "       \"dim_cm\": [22.85, 30]\n",
    "   },\n",
    "   { \n",
    "       \"item\": \"postcard\", \n",
    "       \"qty\": 45, \n",
    "       \"status\": \"A\",\n",
    "       \"size\": \n",
    "       { \n",
    "           \"h\": 10, \n",
    "           \"w\": 15.25, \n",
    "           \"uom\": \"cm\" \n",
    "       }, \n",
    "       \"tags\": [ \"blue\" ],\n",
    "       \"dim_cm\": [10, 15.25]\n",
    "   }\n",
    "])"
   ]
  },
  {
   "cell_type": "code",
   "execution_count": 114,
   "metadata": {},
   "outputs": [
    {
     "name": "stdout",
     "output_type": "stream",
     "text": [
      "journal\n",
      "notebook\n",
      "paper\n",
      "planner\n",
      "postcard\n"
     ]
    }
   ],
   "source": [
    "# Query all documents\n",
    "for item in db.inventory.find({}):\n",
    "    print(item['item'])"
   ]
  },
  {
   "cell_type": "code",
   "execution_count": 41,
   "metadata": {},
   "outputs": [
    {
     "name": "stdout",
     "output_type": "stream",
     "text": [
      "postcard {'h': 10, 'w': 15.25, 'uom': 'cm'}\n"
     ]
    }
   ],
   "source": [
    "# Query exact matchs with dictionary\n",
    "for item in db.inventory.find({'size' : { \"h\": 10, \"w\": 15.25, \"uom\": \"cm\" }}):\n",
    "    print(item['item'], item['size'])"
   ]
  },
  {
   "cell_type": "code",
   "execution_count": 40,
   "metadata": {},
   "outputs": [
    {
     "name": "stdout",
     "output_type": "stream",
     "text": [
      "notebook in\n",
      "paper in\n"
     ]
    }
   ],
   "source": [
    "# Query subdocument items\n",
    "for item in db.inventory.find({\"size.uom\": \"in\"}):\n",
    "    print(item['item'], item['size']['uom'])"
   ]
  },
  {
   "cell_type": "code",
   "execution_count": 38,
   "metadata": {},
   "outputs": [
    {
     "name": "stdout",
     "output_type": "stream",
     "text": [
      "journal 14\n",
      "planner 22.85\n",
      "canvas 28\n"
     ]
    }
   ],
   "source": [
    "# SELECT * FROM inventory WHERE size.h\n",
    "\n",
    "for item in db.inventory.find({'size.h': {'$gt' : 10 }}):\n",
    "    print(item['item'], item['size']['h'])"
   ]
  },
  {
   "cell_type": "code",
   "execution_count": 35,
   "metadata": {},
   "outputs": [
    {
     "name": "stdout",
     "output_type": "stream",
     "text": [
      "journal A\n",
      "notebook A\n",
      "paper D\n",
      "planner D\n",
      "postcard A\n"
     ]
    }
   ],
   "source": [
    "# SELECT * FROM inventory WHERE status in (\"A\", \"D\")\n",
    "for item in db.inventory.find({'status': {\"$in\" : ['A', 'D']}}):\n",
    "    print(item['item'], item['status'])"
   ]
  },
  {
   "cell_type": "code",
   "execution_count": 34,
   "metadata": {},
   "outputs": [
    {
     "name": "stdout",
     "output_type": "stream",
     "text": [
      "paper D 100\n",
      "planner D 75\n"
     ]
    }
   ],
   "source": [
    "# SELECT * FROM inventory WHERE status = 'D' AND qty > 50\n",
    "for item in db.inventory.find({'status' : 'D', 'qty' : {'$gt' : 50 }}):\n",
    "    print(item['item'], item['status'], item['qty'])"
   ]
  },
  {
   "cell_type": "code",
   "execution_count": 11,
   "metadata": {},
   "outputs": [
    {
     "name": "stdout",
     "output_type": "stream",
     "text": [
      "A 25\n",
      "D 100\n",
      "D 75\n",
      "A 45\n"
     ]
    }
   ],
   "source": [
    "# SELECT * FROM inventory WHERE status = 'C' AND qty < 50\n",
    "for item in db.inventory.find({'$or' : [{'status' : 'D'}, {'qty': {'$lt' : 50}}]}):\n",
    "    print(item['status'], item['qty'])\n",
    "                                        \n",
    "                                        "
   ]
  },
  {
   "cell_type": "code",
   "execution_count": 12,
   "metadata": {},
   "outputs": [
    {
     "name": "stdout",
     "output_type": "stream",
     "text": [
      "A 25 journal\n",
      "A 45 postcard\n"
     ]
    }
   ],
   "source": [
    "# SELECT * FROM inventory WHERE status = \"A\" AND ( qty < 30 OR item LIKE \"p%\")\n",
    "cursor = db.inventory.find({\n",
    "    \"status\": \"A\",\n",
    "    \"$or\": [{\"qty\": {\"$lt\": 30}}, {\"item\": {\"$regex\": \"^p\"}}]})\n",
    "\n",
    "for item in cursor:\n",
    "    print(item['status'], item['qty'], item['item'])"
   ]
  },
  {
   "cell_type": "code",
   "execution_count": 33,
   "metadata": {},
   "outputs": [
    {
     "name": "stdout",
     "output_type": "stream",
     "text": [
      "notebook ['red', 'blank']\n"
     ]
    }
   ],
   "source": [
    "# Exact maching\n",
    "for item in db.inventory.find({\"tags\": [\"red\", \"blank\"]}):\n",
    "    print(item['item'], item[\"tags\"])\n"
   ]
  },
  {
   "cell_type": "code",
   "execution_count": 32,
   "metadata": {},
   "outputs": [
    {
     "name": "stdout",
     "output_type": "stream",
     "text": [
      "journal ['blank', 'red']\n",
      "notebook ['red', 'blank']\n",
      "paper ['red', 'blank', 'plain']\n",
      "planner ['blank', 'red']\n"
     ]
    }
   ],
   "source": [
    "# Query arrays which contains \"red\" and \"black\" in any order\n",
    "\n",
    "for item in db.inventory.find({\"tags\": { '$all' : [\"red\", \"blank\"]}}):\n",
    "    print(item['item'], item[\"tags\"])\n"
   ]
  },
  {
   "cell_type": "code",
   "execution_count": 31,
   "metadata": {},
   "outputs": [
    {
     "name": "stdout",
     "output_type": "stream",
     "text": [
      "journal ['blank', 'red']\n",
      "notebook ['red', 'blank']\n",
      "paper ['red', 'blank', 'plain']\n",
      "planner ['blank', 'red']\n"
     ]
    }
   ],
   "source": [
    "# Query arrays which contains \"red\"\n",
    "\n",
    "for item in db.inventory.find({\"tags\": \"red\"}):\n",
    "    print(item['item'], item[\"tags\"])"
   ]
  },
  {
   "cell_type": "code",
   "execution_count": 30,
   "metadata": {},
   "outputs": [
    {
     "name": "stdout",
     "output_type": "stream",
     "text": [
      "planner [22.85, 30]\n",
      "canvas [28, 35.5]\n"
     ]
    }
   ],
   "source": [
    "#  Queries for all documents where the array dim_cm contains at least one element whose value is greater than 25.\n",
    "for item in db.inventory.find({\"dim_cm\": {'$gt' : 25}}):\n",
    "    print(item['item'], item[\"dim_cm\"])"
   ]
  },
  {
   "cell_type": "code",
   "execution_count": 51,
   "metadata": {},
   "outputs": [
    {
     "name": "stdout",
     "output_type": "stream",
     "text": [
      "journal [14, 21]\n",
      "notebook [14, 21]\n",
      "paper [8.5, 11]\n",
      "planner [22.85, 30]\n",
      "postcard [10, 15.25]\n",
      "canvas [28, 35.5]\n",
      "------\n",
      "journal [14, 21]\n",
      "notebook [14, 21]\n"
     ]
    }
   ],
   "source": [
    "# 15보다 작은 하나의 엘리먼트가 하나 이상, 20보다 큰 엘리먼트가 하나 이상 있어야 한다.\n",
    "for item in db.inventory.find({}):\n",
    "    print(item['item'], item[\"dim_cm\"])\n",
    "print('------')    \n",
    "for item in db.inventory.find({\"dim_cm\": {\"$lt\": 15, \"$gt\": 20}}):\n",
    "    print(item['item'], item[\"dim_cm\"])"
   ]
  },
  {
   "cell_type": "code",
   "execution_count": 60,
   "metadata": {},
   "outputs": [
    {
     "name": "stdout",
     "output_type": "stream",
     "text": [
      "journal [14, 21]\n",
      "notebook [14, 21]\n",
      "paper [8.5, 11]\n",
      "planner [22.85, 30]\n",
      "postcard [10, 15.25]\n",
      "canvas [28, 35.5]\n",
      "------\n",
      "journal [14, 21]\n",
      "notebook [14, 21]\n",
      "paper [8.5, 11]\n",
      "planner [22.85, 30]\n",
      "canvas [28, 35.5]\n"
     ]
    }
   ],
   "source": [
    "# 'Or' condition\n",
    "for item in db.inventory.find({}):\n",
    "    print(item['item'], item[\"dim_cm\"])\n",
    "\n",
    "print('------')  \n",
    "\n",
    "for item in db.inventory.find({'$or' : [{\"dim_cm\": {\"$lt\": 9}}, {\"dim_cm\": {\"$gt\": 20}}]}):\n",
    "    print(item['item'], item[\"dim_cm\"])"
   ]
  },
  {
   "cell_type": "code",
   "execution_count": 61,
   "metadata": {},
   "outputs": [
    {
     "name": "stdout",
     "output_type": "stream",
     "text": [
      "journal [14, 21]\n",
      "notebook [14, 21]\n",
      "paper [8.5, 11]\n",
      "planner [22.85, 30]\n",
      "postcard [10, 15.25]\n",
      "canvas [28, 35.5]\n",
      "------\n",
      "planner [22.85, 30]\n",
      "canvas [28, 35.5]\n"
     ]
    }
   ],
   "source": [
    "for item in db.inventory.find({}):\n",
    "    print(item['item'], item[\"dim_cm\"])\n",
    "\n",
    "print('------') \n",
    "\n",
    "# dim_cm에 두 조건을 모두 만족하는 엘리먼트가 하나 이상 있어야한다.\n",
    "for item in db.inventory.find({\"dim_cm\": {\"$elemMatch\": {\"$gt\": 22, \"$lt\": 30}}}):\n",
    "    print(item['item'], item[\"dim_cm\"])"
   ]
  },
  {
   "cell_type": "code",
   "execution_count": 65,
   "metadata": {},
   "outputs": [
    {
     "name": "stdout",
     "output_type": "stream",
     "text": [
      "journal [14, 21]\n",
      "notebook [14, 21]\n",
      "paper [8.5, 11]\n",
      "planner [22.85, 30]\n",
      "postcard [10, 15.25]\n",
      "canvas [28, 35.5]\n",
      "------\n",
      "planner [22.85, 30]\n",
      "canvas [28, 35.5]\n"
     ]
    }
   ],
   "source": [
    "for item in db.inventory.find({}):\n",
    "    print(item['item'], item[\"dim_cm\"])\n",
    "\n",
    "print('------') \n",
    "\n",
    "# INDEX를 이용한 접근 방법\n",
    "for item in db.inventory.find({'dim_cm.1': {\"$gt\": 25}}):\n",
    "    print(item['item'], item['dim_cm'])"
   ]
  },
  {
   "cell_type": "code",
   "execution_count": 73,
   "metadata": {},
   "outputs": [
    {
     "name": "stdout",
     "output_type": "stream",
     "text": [
      "journal ['blank', 'red']\n",
      "notebook ['red', 'blank']\n",
      "planner ['blank', 'red']\n"
     ]
    }
   ],
   "source": [
    "# Array 길이\n",
    "# $gt를 사용해서 2보다 큰 Array 모두 반환하는 그런 문법은 안되는 듯.\n",
    "for item in db.inventory.find({'tags' : {'$size': 2}}):\n",
    "    print(item['item'], item['tags'])"
   ]
  },
  {
   "cell_type": "code",
   "execution_count": 78,
   "metadata": {},
   "outputs": [
    {
     "name": "stdout",
     "output_type": "stream",
     "text": [
      "journal ['blank', 'red']\n",
      "notebook ['red', 'blank']\n",
      "paper ['red', 'blank', 'plain']\n",
      "planner ['blank', 'red']\n"
     ]
    }
   ],
   "source": [
    "# 1보다 큰 Array는 아래 처럼 사용하면 됨\n",
    "for item in db.inventory.find({'$where' : 'this.tags.length > 1'}):\n",
    "    print(item['item'], item['tags'])"
   ]
  },
  {
   "cell_type": "code",
   "execution_count": 81,
   "metadata": {},
   "outputs": [
    {
     "data": {
      "text/plain": [
       "<pymongo.results.InsertManyResult at 0x10e4b2ea0>"
      ]
     },
     "execution_count": 81,
     "metadata": {},
     "output_type": "execute_result"
    }
   ],
   "source": [
    "# 서브 document가 배열 형태로 있는 예제를 수행하기 위해 새로운 DB생성\n",
    "db.inventory.delete_many({})\n",
    "\n",
    "db.inventory.insert_many([\n",
    "    {\"item\": \"journal\",\n",
    "     \"instock\": [\n",
    "         SON([(\"warehouse\", \"A\"), (\"qty\", 5)]),\n",
    "         SON([(\"warehouse\", \"C\"), (\"qty\", 15)])]},\n",
    "    {\"item\": \"notebook\",\n",
    "     \"instock\": [\n",
    "         SON([(\"warehouse\", \"C\"), (\"qty\", 5)])]},\n",
    "    {\"item\": \"paper\",\n",
    "     \"instock\": [\n",
    "         SON([(\"warehouse\", \"A\"), (\"qty\", 60)]),\n",
    "         SON([(\"warehouse\", \"B\"), (\"qty\", 15)])]},\n",
    "    {\"item\": \"planner\",\n",
    "     \"instock\": [\n",
    "         SON([(\"warehouse\", \"A\"), (\"qty\", 40)]),\n",
    "         SON([(\"warehouse\", \"B\"), (\"qty\", 5)])]},\n",
    "    {\"item\": \"postcard\",\n",
    "     \"instock\": [\n",
    "         SON([(\"warehouse\", \"B\"), (\"qty\", 15)]),\n",
    "         SON([(\"warehouse\", \"C\"), (\"qty\", 35)])]}])"
   ]
  },
  {
   "cell_type": "code",
   "execution_count": 91,
   "metadata": {},
   "outputs": [
    {
     "name": "stdout",
     "output_type": "stream",
     "text": [
      "journal [{'warehouse': 'A', 'qty': 5}, {'warehouse': 'C', 'qty': 15}]\n",
      "필드 위치 바뀌면 안된다.\n"
     ]
    }
   ],
   "source": [
    "# 리스트 서브 문서 중 하나의 문서라도 조건을 만족하면 반환\n",
    "\n",
    "for item in db.inventory.find({\"instock\": SON([(\"warehouse\", \"A\"), (\"qty\", 5)])}):\n",
    "    print(item['item'], item['instock'])\n",
    "    \n",
    "print('필드 위치 바뀌면 안된다.')    \n",
    "\n",
    "for item in db.inventory.find({\"instock\": SON([(\"qty\", 5), (\"warehouse\", \"A\")])}):\n",
    "    print(item['item'], item['instock'])"
   ]
  },
  {
   "cell_type": "code",
   "execution_count": 101,
   "metadata": {},
   "outputs": [
    {
     "name": "stdout",
     "output_type": "stream",
     "text": [
      "journal [{'warehouse': 'A', 'qty': 5}, {'warehouse': 'C', 'qty': 15}]\n",
      "notebook [{'warehouse': 'C', 'qty': 5}]\n",
      "paper [{'warehouse': 'A', 'qty': 60}, {'warehouse': 'B', 'qty': 15}]\n",
      "planner [{'warehouse': 'A', 'qty': 40}, {'warehouse': 'B', 'qty': 5}]\n",
      "postcard [{'warehouse': 'B', 'qty': 15}, {'warehouse': 'C', 'qty': 35}]\n",
      "하나의 문서라도 less than equal에 걸리면 반환\n",
      "journal [{'warehouse': 'A', 'qty': 5}, {'warehouse': 'C', 'qty': 15}]\n",
      "notebook [{'warehouse': 'C', 'qty': 5}]\n",
      "planner [{'warehouse': 'A', 'qty': 40}, {'warehouse': 'B', 'qty': 5}]\n"
     ]
    }
   ],
   "source": [
    "for item in db.inventory.find({}):\n",
    "    print(item['item'], item['instock'])\n",
    "\n",
    "print('- 하나의 문서라도 less than equal에 걸리면 반환')\n",
    "\n",
    "for item in db.inventory.find({'instock.qty': {\"$lte\": 5}}):\n",
    "    print(item['item'], item['instock'])"
   ]
  },
  {
   "cell_type": "code",
   "execution_count": 107,
   "metadata": {},
   "outputs": [
    {
     "name": "stdout",
     "output_type": "stream",
     "text": [
      "journal [{'warehouse': 'A', 'qty': 5}, {'warehouse': 'C', 'qty': 15}]\n",
      "notebook [{'warehouse': 'C', 'qty': 5}]\n",
      "paper [{'warehouse': 'A', 'qty': 60}, {'warehouse': 'B', 'qty': 15}]\n",
      "planner [{'warehouse': 'A', 'qty': 40}, {'warehouse': 'B', 'qty': 5}]\n",
      "postcard [{'warehouse': 'B', 'qty': 15}, {'warehouse': 'C', 'qty': 35}]\n",
      "-각 엘리먼트의 qty가 두 조건을 모두 만족해야 함\n",
      "journal [{'warehouse': 'A', 'qty': 5}, {'warehouse': 'C', 'qty': 15}]\n",
      "paper [{'warehouse': 'A', 'qty': 60}, {'warehouse': 'B', 'qty': 15}]\n",
      "postcard [{'warehouse': 'B', 'qty': 15}, {'warehouse': 'C', 'qty': 35}]\n",
      "-각 엘리먼트의 qty가 아래 한 조건만 맞는 엘리만트가 있으면 반환\n",
      "journal [{'warehouse': 'A', 'qty': 5}, {'warehouse': 'C', 'qty': 15}]\n",
      "notebook [{'warehouse': 'C', 'qty': 5}]\n",
      "planner [{'warehouse': 'A', 'qty': 40}, {'warehouse': 'B', 'qty': 5}]\n"
     ]
    }
   ],
   "source": [
    "for item in db.inventory.find({}):\n",
    "    print(item['item'], item['instock'])\n",
    "\n",
    "print('-각 엘리먼트의 qty가 두 조건을 모두 만족해야 함')\n",
    "\n",
    "for item in db.inventory.find({\"instock\": {\"$elemMatch\": {\"qty\": {\"$gt\": 10, \"$lte\": 20}}}}):\n",
    "    print(item['item'], item['instock'])\n",
    "\n",
    "print('-각 엘리먼트의 qty가 아래 한 조건만 맞는 엘리만트가 있으면 반환')\n",
    "    \n",
    "for item in db.inventory.find({\"instock.qty\": {\"$lt\": 10, \"$lte\": 30}}):\n",
    "    print(item['item'], item['instock'])\n",
    "    \n",
    "    "
   ]
  },
  {
   "cell_type": "code",
   "execution_count": 108,
   "metadata": {},
   "outputs": [
    {
     "name": "stdout",
     "output_type": "stream",
     "text": [
      "journal [{'warehouse': 'A', 'qty': 5}, {'warehouse': 'C', 'qty': 15}]\n",
      "planner [{'warehouse': 'A', 'qty': 40}, {'warehouse': 'B', 'qty': 5}]\n"
     ]
    }
   ],
   "source": [
    "for item in db.inventory.find({\"instock.qty\": 5, \"instock.warehouse\": \"A\"}):\n",
    "    print(item['item'], item['instock'])"
   ]
  },
  {
   "cell_type": "code",
   "execution_count": 115,
   "metadata": {},
   "outputs": [
    {
     "data": {
      "text/plain": [
       "<pymongo.results.InsertManyResult at 0x10e4d7480>"
      ]
     },
     "execution_count": 115,
     "metadata": {},
     "output_type": "execute_result"
    }
   ],
   "source": [
    "db.inventory.delete_many({})\n",
    "\n",
    "db.inventory.insert_many([\n",
    "    {\n",
    "        \"item\": \"journal\",\n",
    "        \"status\": \"A\",\n",
    "        \"size\": {\"h\": 14, \"w\": 21, \"uom\": \"cm\"},     \n",
    "        \"instock\": [{\"warehouse\": \"A\", \"qty\": 5}]\n",
    "    },\n",
    "    {\n",
    "        \"item\": \"notebook\",\n",
    "        \"status\": \"A\",\n",
    "        \"size\": {\"h\": 8.5, \"w\": 11, \"uom\": \"in\"},\n",
    "        \"instock\": [{\"warehouse\": \"C\", \"qty\": 5}]\n",
    "    },\n",
    "    {\n",
    "        \"item\": \"paper\",\n",
    "        \"status\": \"D\",\n",
    "        \"size\": {\"h\": 8.5, \"w\": 11, \"uom\": \"in\"},\n",
    "        \"instock\": [{\"warehouse\": \"A\", \"qty\": 60}]\n",
    "    }, \n",
    "    {\n",
    "        \"item\": \"planner\",\n",
    "        \"status\": \"D\",\n",
    "        \"size\": {\"h\": 22.85, \"w\": 30, \"uom\": \"cm\"},\n",
    "        \"instock\": [{\"warehouse\": \"A\", \"qty\": 40}]\n",
    "    },\n",
    "    {\n",
    "        \"item\": \"postcard\",\n",
    "        \"status\": \"A\",\n",
    "        \"size\": {\"h\": 10, \"w\": 15.25, \"uom\": \"cm\"},\n",
    "        \"instock\": [\n",
    "            {\"warehouse\": \"B\", \"qty\": 15},\n",
    "            {\"warehouse\": \"C\", \"qty\": 35}\n",
    "        ]\n",
    "    }\n",
    "])\n"
   ]
  },
  {
   "cell_type": "code",
   "execution_count": 118,
   "metadata": {},
   "outputs": [
    {
     "name": "stdout",
     "output_type": "stream",
     "text": [
      "journal A\n",
      "notebook A\n",
      "postcard A\n"
     ]
    }
   ],
   "source": [
    "for item in db.inventory.find({\"status\": \"A\"}):\n",
    "    print(item['item'], item['status'])\n"
   ]
  },
  {
   "cell_type": "code",
   "execution_count": null,
   "metadata": {},
   "outputs": [],
   "source": []
  }
 ],
 "metadata": {
  "kernelspec": {
   "display_name": "Python 3",
   "language": "python",
   "name": "python3"
  },
  "language_info": {
   "codemirror_mode": {
    "name": "ipython",
    "version": 3
   },
   "file_extension": ".py",
   "mimetype": "text/x-python",
   "name": "python",
   "nbconvert_exporter": "python",
   "pygments_lexer": "ipython3",
   "version": "3.6.5"
  }
 },
 "nbformat": 4,
 "nbformat_minor": 2
}
