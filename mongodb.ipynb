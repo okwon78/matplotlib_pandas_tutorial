{
 "cells": [
  {
   "cell_type": "markdown",
   "metadata": {},
   "source": [
    "# MongoDB with Python"
   ]
  },
  {
   "cell_type": "code",
   "execution_count": null,
   "metadata": {},
   "outputs": [],
   "source": [
    "import pymongo\n",
    "from bson.son import SON\n",
    "from pprint import pprint"
   ]
  },
  {
   "cell_type": "code",
   "execution_count": null,
   "metadata": {},
   "outputs": [],
   "source": [
    "client = pymongo.MongoClient('localhost', 27017)\n",
    "db = client.db"
   ]
  },
  {
   "cell_type": "markdown",
   "metadata": {},
   "source": [
    "## 1. CRUD"
   ]
  },
  {
   "cell_type": "markdown",
   "metadata": {},
   "source": [
    "### Insert"
   ]
  },
  {
   "cell_type": "code",
   "execution_count": null,
   "metadata": {},
   "outputs": [],
   "source": [
    "# Insert one item\n",
    "db.inventory.insert_one(\n",
    "    {\"item\": \"canvas\",\n",
    "     \"qty\": 100,\n",
    "     \"status\": \"C\",\n",
    "     \"tags\": [\"cotton\"],\n",
    "     \"size\": {\"h\": 28, \"w\": 35.5, \"uom\": \"cm\"},\n",
    "     \"dim_cm\": [28, 35.5]})"
   ]
  },
  {
   "cell_type": "code",
   "execution_count": null,
   "metadata": {},
   "outputs": [],
   "source": [
    "# 전부 삭제\n",
    "db.inventory.delete_many({})\n",
    "\n",
    "# Insert many items\n",
    "db.inventory.insert_many([\n",
    "   # MongoDB adds the _id field with an ObjectId if _id is not present\n",
    "   { \n",
    "       \"item\": \"journal\", \n",
    "       \"qty\": 25, \n",
    "       \"status\": \"A\",\n",
    "       \"size\": { \n",
    "           \"h\": 14, \n",
    "           \"w\": 21, \n",
    "           \"uom\": \"cm\" \n",
    "       }, \n",
    "       \"tags\": [ \"blank\", \"red\" ],\n",
    "       \"dim_cm\": [14, 21]\n",
    "   },\n",
    "   { \n",
    "       \"item\": \"notebook\", \n",
    "       \"qty\": 50, \n",
    "       \"status\": \"A\",\n",
    "       \"size\": { \n",
    "           \"h\": 8.5, \n",
    "           \"w\": 11, \n",
    "           \"uom\": \"in\" \n",
    "       }, \n",
    "       \"tags\": [ \"red\", \"blank\" ],\n",
    "       \"dim_cm\": [14, 21]\n",
    "   },\n",
    "   { \n",
    "       \"item\": \"paper\", \n",
    "       \"qty\": 100, \n",
    "       \"status\": \"D\",\n",
    "       \"size\": { \n",
    "           \"h\": 8.5, \n",
    "           \"w\": 11, \n",
    "           \"uom\": \"in\" \n",
    "       }, \n",
    "       \"tags\": [ \"red\", \"blank\", \"plain\" ],\n",
    "       \"dim_cm\": [8.5, 11]\n",
    "   },\n",
    "   { \n",
    "       \"item\": \"planner\", \n",
    "       \"qty\": 75, \n",
    "       \"status\": \"D\",\n",
    "       \"size\": { \n",
    "           \"h\": 22.85, \n",
    "           \"w\": 30, \n",
    "           \"uom\": \"cm\" \n",
    "       }, \n",
    "       \"tags\": [ \"blank\", \"red\" ] ,\n",
    "       \"dim_cm\": [22.85, 30]\n",
    "   },\n",
    "   { \n",
    "       \"item\": \"postcard\", \n",
    "       \"qty\": 45, \n",
    "       \"status\": \"A\",\n",
    "       \"size\": \n",
    "       { \n",
    "           \"h\": 10, \n",
    "           \"w\": 15.25, \n",
    "           \"uom\": \"cm\" \n",
    "       }, \n",
    "       \"tags\": [ \"blue\" ],\n",
    "       \"dim_cm\": [10, 15.25]\n",
    "   }\n",
    "])"
   ]
  },
  {
   "cell_type": "markdown",
   "metadata": {},
   "source": [
    "### Query"
   ]
  },
  {
   "cell_type": "code",
   "execution_count": null,
   "metadata": {},
   "outputs": [],
   "source": [
    "# Query all documents\n",
    "for item in db.inventory.find({}):\n",
    "    print(item['item'])"
   ]
  },
  {
   "cell_type": "code",
   "execution_count": null,
   "metadata": {},
   "outputs": [],
   "source": [
    "# Query exact matchs with dictionary\n",
    "for item in db.inventory.find({'size' : { \"h\": 10, \"w\": 15.25, \"uom\": \"cm\" }}):\n",
    "    print(item['item'], item['size'])"
   ]
  },
  {
   "cell_type": "code",
   "execution_count": null,
   "metadata": {},
   "outputs": [],
   "source": [
    "# Query subdocument items\n",
    "for item in db.inventory.find({\"size.uom\": \"in\"}):\n",
    "    print(item['item'], item['size']['uom'])"
   ]
  },
  {
   "cell_type": "code",
   "execution_count": null,
   "metadata": {},
   "outputs": [],
   "source": [
    "# SELECT * FROM inventory WHERE size.h\n",
    "for item in db.inventory.find({'size.h': {'$gt' : 10 }}):\n",
    "    print(item['item'], item['size']['h'])"
   ]
  },
  {
   "cell_type": "code",
   "execution_count": null,
   "metadata": {},
   "outputs": [],
   "source": [
    "# SELECT * FROM inventory WHERE status in (\"A\", \"D\")\n",
    "for item in db.inventory.find({'status': {\"$in\" : ['A', 'D']}}):\n",
    "    print(item['item'], item['status'])"
   ]
  },
  {
   "cell_type": "code",
   "execution_count": null,
   "metadata": {},
   "outputs": [],
   "source": [
    "# SELECT * FROM inventory WHERE status = 'D' AND qty > 50\n",
    "for item in db.inventory.find({'status' : 'D', 'qty' : {'$gt' : 50 }}):\n",
    "    print(item['item'], item['status'], item['qty'])"
   ]
  },
  {
   "cell_type": "code",
   "execution_count": null,
   "metadata": {},
   "outputs": [],
   "source": [
    "# SELECT * FROM inventory WHERE status = 'C' AND qty < 50\n",
    "for item in db.inventory.find({'$or' : [{'status' : 'D'}, {'qty': {'$lt' : 50}}]}):\n",
    "    print(item['status'], item['qty'])"
   ]
  },
  {
   "cell_type": "code",
   "execution_count": null,
   "metadata": {},
   "outputs": [],
   "source": [
    "# SELECT * FROM inventory WHERE status = \"A\" AND ( qty < 30 OR item LIKE \"p%\")\n",
    "cursor = db.inventory.find({\n",
    "    \"status\": \"A\",\n",
    "    \"$or\": [{\"qty\": {\"$lt\": 30}}, {\"item\": {\"$regex\": \"^p\"}}]})\n",
    "\n",
    "for item in cursor:\n",
    "    print(item['status'], item['qty'], item['item'])"
   ]
  },
  {
   "cell_type": "code",
   "execution_count": null,
   "metadata": {},
   "outputs": [],
   "source": [
    "# Exact maching\n",
    "for item in db.inventory.find({\"tags\": [\"red\", \"blank\"]}):\n",
    "    print(item['item'], item[\"tags\"])"
   ]
  },
  {
   "cell_type": "code",
   "execution_count": null,
   "metadata": {},
   "outputs": [],
   "source": [
    "# Query arrays which contains \"red\" and \"black\" in any order\n",
    "for item in db.inventory.find({\"tags\": { '$all' : [\"red\", \"blank\"]}}):\n",
    "    print(item['item'], item[\"tags\"])"
   ]
  },
  {
   "cell_type": "code",
   "execution_count": null,
   "metadata": {},
   "outputs": [],
   "source": [
    "# Query arrays which contains \"red\"\n",
    "for item in db.inventory.find({\"tags\": \"red\"}):\n",
    "    print(item['item'], item[\"tags\"])"
   ]
  },
  {
   "cell_type": "code",
   "execution_count": null,
   "metadata": {},
   "outputs": [],
   "source": [
    "#  Queries for all documents where the array dim_cm contains at least one element whose value is greater than 25.\n",
    "for item in db.inventory.find({\"dim_cm\": {'$gt' : 25}}):\n",
    "    print(item['item'], item[\"dim_cm\"])"
   ]
  },
  {
   "cell_type": "code",
   "execution_count": null,
   "metadata": {},
   "outputs": [],
   "source": [
    "# 15보다 작은 하나의 엘리먼트가 하나 이상, 20보다 큰 엘리먼트가 하나 이상 있어야 한다.\n",
    "for item in db.inventory.find({}):\n",
    "    print(item['item'], item[\"dim_cm\"])\n",
    "print('------')    \n",
    "for item in db.inventory.find({\"dim_cm\": {\"$lt\": 15, \"$gt\": 20}}):\n",
    "    print(item['item'], item[\"dim_cm\"])"
   ]
  },
  {
   "cell_type": "code",
   "execution_count": null,
   "metadata": {},
   "outputs": [],
   "source": [
    "# 'Or' condition\n",
    "for item in db.inventory.find({}):\n",
    "    print(item['item'], item[\"dim_cm\"])\n",
    "\n",
    "print('------')  \n",
    "\n",
    "for item in db.inventory.find({'$or' : [{\"dim_cm\": {\"$lt\": 9}}, {\"dim_cm\": {\"$gt\": 20}}]}):\n",
    "    print(item['item'], item[\"dim_cm\"])"
   ]
  },
  {
   "cell_type": "code",
   "execution_count": null,
   "metadata": {},
   "outputs": [],
   "source": [
    "for item in db.inventory.find({}):\n",
    "    print(item['item'], item[\"dim_cm\"])\n",
    "\n",
    "print('------') \n",
    "\n",
    "# dim_cm에 두 조건을 모두 만족하는 엘리먼트가 하나 이상 있어야한다.\n",
    "for item in db.inventory.find({\"dim_cm\": {\"$elemMatch\": {\"$gt\": 22, \"$lt\": 30}}}):\n",
    "    print(item['item'], item[\"dim_cm\"])"
   ]
  },
  {
   "cell_type": "code",
   "execution_count": null,
   "metadata": {},
   "outputs": [],
   "source": [
    "for item in db.inventory.find({}):\n",
    "    print(item['item'], item[\"dim_cm\"])\n",
    "\n",
    "print('------') \n",
    "\n",
    "# INDEX를 이용한 접근 방법\n",
    "for item in db.inventory.find({'dim_cm.1': {\"$gt\": 25}}):\n",
    "    print(item['item'], item['dim_cm'])"
   ]
  },
  {
   "cell_type": "code",
   "execution_count": null,
   "metadata": {},
   "outputs": [],
   "source": [
    "# Array 길이\n",
    "# $gt를 사용해서 2보다 큰 Array 모두 반환하는 그런 문법은 안되는 듯.\n",
    "for item in db.inventory.find({'tags' : {'$size': 2}}):\n",
    "    print(item['item'], item['tags'])"
   ]
  },
  {
   "cell_type": "code",
   "execution_count": null,
   "metadata": {},
   "outputs": [],
   "source": [
    "# 1보다 큰 Array는 아래 처럼 사용하면 됨\n",
    "for item in db.inventory.find({'$where' : 'this.tags.length > 1'}):\n",
    "    print(item['item'], item['tags'])"
   ]
  },
  {
   "cell_type": "code",
   "execution_count": null,
   "metadata": {},
   "outputs": [],
   "source": [
    "# 서브 document가 배열 형태로 있는 예제를 수행하기 위해 새로운 DB생성\n",
    "db.inventory.delete_many({})\n",
    "\n",
    "db.inventory.insert_many([\n",
    "    {\"item\": \"journal\",\n",
    "     \"instock\": [\n",
    "         SON([(\"warehouse\", \"A\"), (\"qty\", 5)]),\n",
    "         SON([(\"warehouse\", \"C\"), (\"qty\", 15)])]},\n",
    "    {\"item\": \"notebook\",\n",
    "     \"instock\": [\n",
    "         SON([(\"warehouse\", \"C\"), (\"qty\", 5)])]},\n",
    "    {\"item\": \"paper\",\n",
    "     \"instock\": [\n",
    "         SON([(\"warehouse\", \"A\"), (\"qty\", 60)]),\n",
    "         SON([(\"warehouse\", \"B\"), (\"qty\", 15)])]},\n",
    "    {\"item\": \"planner\",\n",
    "     \"instock\": [\n",
    "         SON([(\"warehouse\", \"A\"), (\"qty\", 40)]),\n",
    "         SON([(\"warehouse\", \"B\"), (\"qty\", 5)])]},\n",
    "    {\"item\": \"postcard\",\n",
    "     \"instock\": [\n",
    "         SON([(\"warehouse\", \"B\"), (\"qty\", 15)]),\n",
    "         SON([(\"warehouse\", \"C\"), (\"qty\", 35)])]}])"
   ]
  },
  {
   "cell_type": "code",
   "execution_count": null,
   "metadata": {},
   "outputs": [],
   "source": [
    "# 리스트 서브 문서 중 하나의 문서라도 조건을 만족하면 반환\n",
    "\n",
    "for item in db.inventory.find({\"instock\": SON([(\"warehouse\", \"A\"), (\"qty\", 5)])}):\n",
    "    print(item['item'], item['instock'])\n",
    "    \n",
    "print('필드 위치 바뀌면 안된다.')    \n",
    "\n",
    "for item in db.inventory.find({\"instock\": SON([(\"qty\", 5), (\"warehouse\", \"A\")])}):\n",
    "    print(item['item'], item['instock'])"
   ]
  },
  {
   "cell_type": "code",
   "execution_count": null,
   "metadata": {},
   "outputs": [],
   "source": [
    "for item in db.inventory.find({}):\n",
    "    print(item['item'], item['instock'])\n",
    "\n",
    "print('- 하나의 문서라도 less than equal에 걸리면 반환')\n",
    "\n",
    "for item in db.inventory.find({'instock.qty': {\"$lte\": 5}}):\n",
    "    print(item['item'], item['instock'])"
   ]
  },
  {
   "cell_type": "code",
   "execution_count": null,
   "metadata": {},
   "outputs": [],
   "source": [
    "for item in db.inventory.find({}):\n",
    "    print(item['item'], item['instock'])\n",
    "\n",
    "print('-각 엘리먼트의 qty가 두 조건을 모두 만족해야 함')\n",
    "\n",
    "for item in db.inventory.find({\"instock\": {\"$elemMatch\": {\"qty\": {\"$gt\": 10, \"$lte\": 20}}}}):\n",
    "    print(item['item'], item['instock'])\n",
    "\n",
    "print('-각 엘리먼트의 qty가 아래 한 조건만 맞는 엘리만트가 있으면 반환')\n",
    "    \n",
    "for item in db.inventory.find({\"instock.qty\": {\"$lt\": 10, \"$lte\": 30}}):\n",
    "    print(item['item'], item['instock'])\n",
    "    \n",
    "    "
   ]
  },
  {
   "cell_type": "code",
   "execution_count": null,
   "metadata": {},
   "outputs": [],
   "source": [
    "for item in db.inventory.find({\"instock.qty\": 5, \"instock.warehouse\": \"A\"}):\n",
    "    print(item['item'], item['instock'])"
   ]
  },
  {
   "cell_type": "code",
   "execution_count": null,
   "metadata": {},
   "outputs": [],
   "source": [
    "db.inventory.delete_many({})\n",
    "\n",
    "db.inventory.insert_many([\n",
    "    {\n",
    "        \"item\": \"journal\",\n",
    "        \"status\": \"A\",\n",
    "        \"size\": {\"h\": 14, \"w\": 21, \"uom\": \"cm\"},     \n",
    "        \"instock\": [{\"warehouse\": \"A\", \"qty\": 5}]\n",
    "    },\n",
    "    {\n",
    "        \"item\": \"notebook\",\n",
    "        \"status\": \"A\",\n",
    "        \"size\": {\"h\": 8.5, \"w\": 11, \"uom\": \"in\"},\n",
    "        \"instock\": [{\"warehouse\": \"C\", \"qty\": 5}]\n",
    "    },\n",
    "    {\n",
    "        \"item\": \"paper\",\n",
    "        \"status\": \"D\",\n",
    "        \"size\": {\"h\": 8.5, \"w\": 11, \"uom\": \"in\"},\n",
    "        \"instock\": [{\"warehouse\": \"A\", \"qty\": 60}]\n",
    "    }, \n",
    "    {\n",
    "        \"item\": \"planner\",\n",
    "        \"status\": \"D\",\n",
    "        \"size\": {\"h\": 22.85, \"w\": 30, \"uom\": \"cm\"},\n",
    "        \"instock\": [{\"warehouse\": \"A\", \"qty\": 40}]\n",
    "    },\n",
    "    {\n",
    "        \"item\": \"postcard\",\n",
    "        \"status\": \"A\",\n",
    "        \"size\": {\"h\": 10, \"w\": 15.25, \"uom\": \"cm\"},\n",
    "        \"instock\": [\n",
    "            {\"warehouse\": \"B\", \"qty\": 15},\n",
    "            {\"warehouse\": \"C\", \"qty\": 35}\n",
    "        ]\n",
    "    }\n",
    "])\n"
   ]
  },
  {
   "cell_type": "code",
   "execution_count": null,
   "metadata": {},
   "outputs": [],
   "source": [
    "# SELECT * from inventory WHERE status = \"A\"\n",
    "\n",
    "for item in db.inventory.find({\"status\": \"A\"}):\n",
    "    pprint(item)\n"
   ]
  },
  {
   "cell_type": "code",
   "execution_count": null,
   "metadata": {},
   "outputs": [],
   "source": [
    "# SELECT _id, item, status from inventory WHERE status = \"A\"\n",
    "#  _id, item, status 만 반환한다.\n",
    "\n",
    "for item in db.inventory.find({\"status\": \"A\"}, {\"item\": 1, \"status\": 1}):\n",
    "    pprint(item)\n",
    "\n",
    "# _id는 제외. _id만 예외적으로 include, exclude에 섞어서 쓸 수 있다. _id를 instock으로 변경하면 에러.\n",
    "for item in db.inventory.find({\"status\": \"A\"}, {\"item\": 1, \"status\": 1, '_id' : 0}):\n",
    "    pprint(item)\n",
    "\n",
    "# _id, instock, status를 제외한 나머지 반환\n",
    "for item in db.inventory.find({\"status\": \"A\"}, {'_id' : 0, 'instock': 0, 'status': 0}):\n",
    "    pprint(item)\n"
   ]
  },
  {
   "cell_type": "code",
   "execution_count": null,
   "metadata": {},
   "outputs": [],
   "source": [
    "# .문법으로 서브 문서 접근하는 방법\n",
    "\n",
    "for item in db.inventory.find({\"status\": \"A\"}, {'_id': 0, 'item': 1, 'status': 1, 'size.uom': 1}):\n",
    "    pprint(item)"
   ]
  },
  {
   "cell_type": "code",
   "execution_count": null,
   "metadata": {},
   "outputs": [],
   "source": [
    "# .문법으로 서브 문서 배열 접근하는 방법\n",
    "\n",
    "for item in db.inventory.find({\"status\": \"A\"}, {'_id': 0, 'instock.qty': 1}):\n",
    "    pprint(item)"
   ]
  },
  {
   "cell_type": "code",
   "execution_count": null,
   "metadata": {},
   "outputs": [],
   "source": [
    "for item in db.inventory.find({\"status\": \"A\"}, {'_id': 0, 'item': 1, 'instock': 1}):\n",
    "    pprint(item)\n",
    "# $slice로 마지막 엘리먼트를 가지고 온다.        \n",
    "for item in db.inventory.find({\"status\": \"A\"}, {'_id': 0, 'item': 1, 'instock': {'$slice': -1}}):\n",
    "    pprint(item)"
   ]
  },
  {
   "cell_type": "markdown",
   "metadata": {},
   "source": [
    "### Update"
   ]
  },
  {
   "cell_type": "code",
   "execution_count": null,
   "metadata": {},
   "outputs": [],
   "source": [
    "db.inventory.delete_many({})\n",
    "\n",
    "db.inventory.insert_many([\n",
    "    {\"item\": \"canvas\",\n",
    "     \"qty\": 100,\n",
    "     \"size\": {\"h\": 28, \"w\": 35.5, \"uom\": \"cm\"},\n",
    "     \"status\": \"A\"},\n",
    "    {\"item\": \"journal\",\n",
    "     \"qty\": 25,\n",
    "     \"size\": {\"h\": 14, \"w\": 21, \"uom\": \"cm\"},\n",
    "     \"status\": \"A\"},\n",
    "    {\"item\": \"mat\",\n",
    "     \"qty\": 85,\n",
    "     \"size\": {\"h\": 27.9, \"w\": 35.5, \"uom\": \"cm\"},\n",
    "     \"status\": \"A\"},\n",
    "    {\"item\": \"mousepad\",\n",
    "     \"qty\": 25,\n",
    "     \"size\": {\"h\": 19, \"w\": 22.85, \"uom\": \"cm\"},\n",
    "     \"status\": \"P\"},\n",
    "    {\"item\": \"notebook\",\n",
    "     \"qty\": 50,\n",
    "     \"size\": {\"h\": 8.5, \"w\": 11, \"uom\": \"in\"},\n",
    "     \"status\": \"P\"},\n",
    "    {\"item\": \"paper\",\n",
    "     \"qty\": 100,\n",
    "     \"size\": {\"h\": 8.5, \"w\": 11, \"uom\": \"in\"},\n",
    "     \"status\": \"D\"},\n",
    "    {\"item\": \"planner\",\n",
    "     \"qty\": 75,\n",
    "     \"size\": {\"h\": 22.85, \"w\": 30, \"uom\": \"cm\"},\n",
    "     \"status\": \"D\"},\n",
    "    {\"item\": \"postcard\",\n",
    "     \"qty\": 45,\n",
    "     \"size\": {\"h\": 10, \"w\": 15.25, \"uom\": \"cm\"},\n",
    "     \"status\": \"A\"},\n",
    "    {\"item\": \"sketchbook\",\n",
    "     \"qty\": 80,\n",
    "     \"size\": {\"h\": 14, \"w\": 21, \"uom\": \"cm\"},\n",
    "     \"status\": \"A\"},\n",
    "    {\"item\": \"sketch pad\",\n",
    "     \"qty\": 95,\n",
    "     \"size\": {\"h\": 22.85, \"w\": 30.5, \"uom\": \"cm\"},\n",
    "     \"status\": \"A\"}\n",
    "])"
   ]
  },
  {
   "cell_type": "code",
   "execution_count": null,
   "metadata": {},
   "outputs": [],
   "source": [
    "# 단일 업데이트\n",
    "# {\"item\": \"paper\"} 매칭 아이템을 $set으로 수정하고 \"$currentDate\" 현재 시간 항목 추가\n",
    "\n",
    "\n",
    "db.inventory.update_one(\n",
    "    {\"item\": \"paper\"},\n",
    "    {\"$set\": {\"size.uom\": \"cm\", \"status\": \"P\"},\n",
    "     \"$currentDate\": {\"lastModified\": True}})\n",
    "\n",
    "print (db.inventory.find_one({\"item\": \"paper\"}))"
   ]
  },
  {
   "cell_type": "code",
   "execution_count": null,
   "metadata": {},
   "outputs": [],
   "source": [
    "# 다수 항목 수정\n",
    "\n",
    "db.inventory.update_many(\n",
    "    {\"qty\": {\"$lt\": 50}},\n",
    "    {\"$set\": {\"size.uom\": \"in\", \"status\": \"P\"},\n",
    "     \"$currentDate\": {\"lastModified\": True}})\n",
    "\n",
    "for item in db.inventory.find({\"qty\": {\"$lt\": 50}}):\n",
    "    pprint(item)"
   ]
  },
  {
   "cell_type": "code",
   "execution_count": null,
   "metadata": {},
   "outputs": [],
   "source": [
    "# _id를 제외하고 전체 문서 교체\n",
    "\n",
    "db.inventory.replace_one(\n",
    "    {\"item\": \"paper\"},\n",
    "    {\"item\": \"paper\",\n",
    "     \"instock\": [\n",
    "         {\"warehouse\": \"A\", \"qty\": 60},\n",
    "         {\"warehouse\": \"B\", \"qty\": 50}]}\n",
    ")\n",
    "\n",
    "print (db.inventory.find_one({\"item\": \"paper\"}))"
   ]
  },
  {
   "cell_type": "markdown",
   "metadata": {},
   "source": [
    "### Delete"
   ]
  },
  {
   "cell_type": "code",
   "execution_count": null,
   "metadata": {},
   "outputs": [],
   "source": [
    "# 삭제\n",
    "\n",
    "db.inventory.delete_many({\"status\": \"A\"})\n",
    "db.inventory.delete_one({\"status\": \"D\"})"
   ]
  },
  {
   "cell_type": "markdown",
   "metadata": {},
   "source": [
    "### Bulk Write\n",
    "There are two types of bulk write operations\n",
    "\n",
    "* Ordered : 순차 실행, 실행 중 실패하면 즉각 반환\n",
    "* Unordered : 병렬 처리: 실행 중 실패해도 나머지 실행\n",
    "\n",
    "It supports the folloings.\n",
    "\n",
    "* insertOne\n",
    "* updateOne\n",
    "* updateMany\n",
    "* replaceOne\n",
    "* deleteOne\n",
    "* deleteMany"
   ]
  },
  {
   "cell_type": "code",
   "execution_count": null,
   "metadata": {},
   "outputs": [],
   "source": [
    "db.schools.delete_many({})\n",
    "\n",
    "db.schools.insert_many([\n",
    "    { \"_id\" : 1, \"char\" : \"Brisbane\", \"class\" : \"monk\", \"lvl\" : 4 },\n",
    "    { \"_id\" : 2, \"char\" : \"Eldon\", \"class\" : \"alchemist\", \"lvl\" : 3 },\n",
    "    { \"_id\" : 3, \"char\" : \"Meldane\", \"class\" : \"ranger\", \"lvl\" : 3 }\n",
    "])"
   ]
  },
  {
   "cell_type": "code",
   "execution_count": null,
   "metadata": {},
   "outputs": [],
   "source": [
    "from pymongo import InsertOne, DeleteOne, UpdateOne, ReplaceOne\n",
    "from pymongo.errors import BulkWriteError\n",
    "\n",
    "operations = [\n",
    "    InsertOne({\"_id\" : 4, \"char\" : \"Dithras\", \"class\" : \"barbarian\", \"lvl\" : 4}),\n",
    "    InsertOne({\"_id\" : 5, \"char\" : \"Taeln\", \"class\" : \"fighter\", \"lvl\" : 3}),\n",
    "    UpdateOne({\"char\" : \"Eldon\"}, { \"$set\" : { \"status\" : \"Critical Injury\" } }) ,\n",
    "    DeleteOne({ \"char\" : \"Brisbane\"}),\n",
    "    ReplaceOne({ \"char\" : \"Meldane\" }, { \"char\" : \"Tanys\", \"class\" : \"oracle\", \"lvl\" : 4 })\n",
    "]\n",
    "    \n",
    "try:    \n",
    "    db.schools.bulk_write(operations, ordered=True)\n",
    "except BulkWriteError as bwe:\n",
    "    pprint(bwe.details)\n",
    "    "
   ]
  },
  {
   "cell_type": "markdown",
   "metadata": {},
   "source": [
    "### Text Search\n",
    "\n",
    "mongodb는 문장 검색 기능을 제공한다. 문장 검색 기능을 이용하기 위해서는 index 생성이 선행되어야 한다."
   ]
  },
  {
   "cell_type": "code",
   "execution_count": null,
   "metadata": {},
   "outputs": [],
   "source": [
    "from pymongo import IndexModel, TEXT\n",
    "\n",
    "db.stores.delete_many({})\n",
    "\n",
    "for index in db.stores.index_information():\n",
    "    if index == 'text_index':\n",
    "        db.stores.drop_index('text_index')\n",
    "    \n",
    "db.stores.insert_many(\n",
    "   [\n",
    "     { 'name': \"Java Hut\", 'description': \"Coffee and cakes\" },\n",
    "     { 'name': \"Burger Buns\", 'description': \"Gourmet hamburgers\" },\n",
    "     { 'name': \"Coffee Shop\", 'description': \"Just coffee\" },\n",
    "     { 'name': \"Clothes Clothes Clothes\", 'description': \"Discount clothing\" },\n",
    "     { 'name': \"Java Shopping\", 'description': \"Indonesian goods\" }\n",
    "   ]\n",
    ")\n",
    "\n",
    "# text 검색을 위해서는 TEXT index가 설정되어야 한다.\n",
    "db.stores.create_index([('name', pymongo.TEXT), ('description', pymongo.TEXT)], name='text_index')\n"
   ]
  },
  {
   "cell_type": "code",
   "execution_count": null,
   "metadata": {},
   "outputs": [],
   "source": [
    "# java, shop, discount 개별 단어를 검색하기 위한 옵션\n",
    "for item in db.stores.find({'$text':{'$search':\"java shop discount\"}}):\n",
    "    print(item['name'], '-', item['description'])\n",
    "    "
   ]
  },
  {
   "cell_type": "code",
   "execution_count": null,
   "metadata": {},
   "outputs": [],
   "source": [
    "# java, shop 개별 단어를 검색, 하지만 coffee 단어는 제외\n",
    "for item in db.stores.find({'$text':{'$search':\"java shop -coffee\"}}):\n",
    "    print(item['name'], '-', item['description'])"
   ]
  },
  {
   "cell_type": "code",
   "execution_count": null,
   "metadata": {},
   "outputs": [],
   "source": [
    "# \"java shop\" 전체 단어를 검색하기 위한 옵션\n",
    "for item in db.stores.find({'$text':{'$search':\"\\\"java shop\\\"\"}}):\n",
    "    print(item['name'], '-', item['description'])\n",
    "    "
   ]
  },
  {
   "cell_type": "markdown",
   "metadata": {},
   "source": [
    "## 2. Indexes"
   ]
  },
  {
   "cell_type": "code",
   "execution_count": null,
   "metadata": {},
   "outputs": [],
   "source": [
    "import pandas as pd\n",
    "import json\n",
    "\n",
    "data = pd.read_csv('movies_initial.csv')\n",
    "payload = json.loads(data.to_json(orient='records'))\n",
    "db.movie.delete_many({})\n",
    "db.movie.insert_many(payload)\n"
   ]
  },
  {
   "cell_type": "markdown",
   "metadata": {},
   "source": [
    "### Single field indexes"
   ]
  },
  {
   "cell_type": "code",
   "execution_count": null,
   "metadata": {},
   "outputs": [],
   "source": [
    "for index in db.movie.index_information():\n",
    "    if index == 'title_index':\n",
    "        db.movie.drop_index('title_index')\n",
    "        \n",
    "without_index = db.movie.find({ 'title' : 'A Turn of the Century Illusionist'}).explain()['executionStats']['executionTimeMillis']\n",
    "db.movie.create_index([('title', pymongo.ASCENDING)], name='title_index')\n",
    "with_index = db.movie.find({ 'title' : 'A Turn of the Century Illusionist'}).explain()['executionStats']['executionTimeMillis']\n",
    "\n",
    "print('executionTimeMillis without index', without_index)\n",
    "print('executionTimeMillis with index', with_index)"
   ]
  },
  {
   "cell_type": "markdown",
   "metadata": {},
   "source": [
    "### Compound indexes"
   ]
  },
  {
   "cell_type": "code",
   "execution_count": null,
   "metadata": {},
   "outputs": [],
   "source": [
    "# Delelte index\n",
    "for index in db.movie.index_information():\n",
    "    if index == 'genre_index':\n",
    "        db.movie.drop_index('genre_index')\n",
    "\n",
    "without_index = db.movie.find(\n",
    "    { \n",
    "        'genre' : 'Documentary, Short', \n",
    "        'imdbVotes': {'$gt' : 1000}\n",
    "    }).explain()['executionStats']['executionTimeMillis']\n",
    "\n",
    "print('executionTimeMillis without index', without_index)\n",
    "\n",
    "# Create Single index\n",
    "db.movie.create_index([('genre', pymongo.ASCENDING)], name='genre_index')\n",
    "\n",
    "with_single_index = db.movie.find(\n",
    "    { \n",
    "        'genre' : 'Documentary, Short', \n",
    "        'imdbVotes': {'$gt' : 1000}\n",
    "    }).explain()['executionStats']['executionTimeMillis']\n",
    "\n",
    "print('executionTimeMillis with single index', with_single_index)\n",
    "\n",
    "# Delete Single index\n",
    "for index in db.movie.index_information():\n",
    "    if index == 'genre_index':\n",
    "        db.movie.drop_index('genre_index')\n",
    "\n",
    "# Create Compound Index\n",
    "db.movie.create_index([\n",
    "    ('genre', pymongo.ASCENDING), \n",
    "    ('imdbVotes', pymongo.ASCENDING)], \n",
    "    name='genre_index')\n",
    "\n",
    "with_compound_index = db.movie.find(\n",
    "    { \n",
    "        'genre' : 'Documentary, Short', \n",
    "        'imdbVotes': {'$gt' : 1000}\n",
    "    }).explain()['executionStats']['executionTimeMillis']\n",
    "\n",
    "print('executionTimeMillis with compound index', with_compound_index)"
   ]
  },
  {
   "cell_type": "markdown",
   "metadata": {},
   "source": [
    "## 3. Aggregation\n"
   ]
  },
  {
   "cell_type": "code",
   "execution_count": null,
   "metadata": {},
   "outputs": [],
   "source": []
  },
  {
   "cell_type": "code",
   "execution_count": null,
   "metadata": {},
   "outputs": [],
   "source": []
  }
 ],
 "metadata": {
  "kernelspec": {
   "display_name": "Python 3",
   "language": "python",
   "name": "python3"
  },
  "language_info": {
   "codemirror_mode": {
    "name": "ipython",
    "version": 3
   },
   "file_extension": ".py",
   "mimetype": "text/x-python",
   "name": "python",
   "nbconvert_exporter": "python",
   "pygments_lexer": "ipython3",
   "version": "3.6.5"
  }
 },
 "nbformat": 4,
 "nbformat_minor": 2
}
