{
 "cells": [
  {
   "cell_type": "code",
   "execution_count": 9,
   "metadata": {},
   "outputs": [],
   "source": [
    "import pymongo\n",
    "from pprint import pprint as print"
   ]
  },
  {
   "cell_type": "code",
   "execution_count": 3,
   "metadata": {},
   "outputs": [],
   "source": [
    "client = pymongo.MongoClient('localhost', 27017)"
   ]
  },
  {
   "cell_type": "code",
   "execution_count": 5,
   "metadata": {},
   "outputs": [
    {
     "data": {
      "text/plain": [
       "<pymongo.results.InsertManyResult at 0x10f2682d0>"
      ]
     },
     "execution_count": 5,
     "metadata": {},
     "output_type": "execute_result"
    }
   ],
   "source": [
    "#insert many\n",
    "db = client.kwon\n",
    "db.users.insert_many(\n",
    "[\n",
    "    {\n",
    "        'first_name': 'ohbum',\n",
    "        'last_name': 'kwon',\n",
    "        'age': '22'\n",
    "    },\n",
    "    {\n",
    "        'first_name': 'jinwook',\n",
    "        'last_name': 'choi',\n",
    "        'age': '21'\n",
    "    },\n",
    "    {\n",
    "        'first_name': 'hyeokjo',\n",
    "        'last_name': 'kwon',\n",
    "        'age': '10'\n",
    "    },\n",
    "    {\n",
    "        'first_name': 'hyeokchan',\n",
    "        'last_name': 'kwon',\n",
    "        'age': '9'\n",
    "    }\n",
    "]\n",
    ")"
   ]
  },
  {
   "cell_type": "code",
   "execution_count": 10,
   "metadata": {},
   "outputs": [
    {
     "name": "stdout",
     "output_type": "stream",
     "text": [
      "{'_id': ObjectId('5b3c383df89e3002a71e94e3'),\n",
      " 'age': '22',\n",
      " 'first_name': 'ohbum',\n",
      " 'last_name': 'kwon'}\n",
      "{'_id': ObjectId('5b3c383df89e3002a71e94e4'),\n",
      " 'age': '21',\n",
      " 'first_name': 'jinwook',\n",
      " 'last_name': 'choi'}\n",
      "{'_id': ObjectId('5b3c383df89e3002a71e94e5'),\n",
      " 'age': '10',\n",
      " 'first_name': 'hyeokjo',\n",
      " 'last_name': 'kwon'}\n",
      "{'_id': ObjectId('5b3c383df89e3002a71e94e6'),\n",
      " 'age': '9',\n",
      " 'first_name': 'hyeokchan',\n",
      " 'last_name': 'kwon'}\n"
     ]
    }
   ],
   "source": [
    "for user in db.users.find():\n",
    "    print(user)"
   ]
  },
  {
   "cell_type": "code",
   "execution_count": null,
   "metadata": {},
   "outputs": [],
   "source": []
  }
 ],
 "metadata": {
  "kernelspec": {
   "display_name": "Python 3",
   "language": "python",
   "name": "python3"
  },
  "language_info": {
   "codemirror_mode": {
    "name": "ipython",
    "version": 3
   },
   "file_extension": ".py",
   "mimetype": "text/x-python",
   "name": "python",
   "nbconvert_exporter": "python",
   "pygments_lexer": "ipython3",
   "version": "3.6.5"
  }
 },
 "nbformat": 4,
 "nbformat_minor": 2
}
